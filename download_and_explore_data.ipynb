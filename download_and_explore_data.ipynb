{
 "cells": [
  {
   "cell_type": "markdown",
   "metadata": {},
   "source": [
    "# EDA on the IMDB dataset"
   ]
  },
  {
   "cell_type": "markdown",
   "metadata": {},
   "source": [
    "## Downloading the datasets"
   ]
  },
  {
   "cell_type": "code",
   "execution_count": 4,
   "metadata": {},
   "outputs": [
    {
     "name": "stdout",
     "output_type": "stream",
     "text": [
      "  % Total    % Received % Xferd  Average Speed   Time    Time     Time  Current\n",
      "                                 Dload  Upload   Total   Spent    Left  Speed\n",
      "100  188M  100  188M    0     0  10.9M      0  0:00:17  0:00:17 --:--:-- 14.4M\n",
      "  % Total    % Received % Xferd  Average Speed   Time    Time     Time  Current\n",
      "                                 Dload  Upload   Total   Spent    Left  Speed\n",
      "100  418M  100  418M    0     0  8207k      0  0:00:52  0:00:52 --:--:-- 4653k\n",
      "  % Total    % Received % Xferd  Average Speed   Time    Time     Time  Current\n",
      "                                 Dload  Upload   Total   Spent    Left  Speed\n",
      "100 70.1M  100 70.1M    0     0  8706k      0  0:00:08  0:00:08 --:--:-- 12.9M\n",
      "  % Total    % Received % Xferd  Average Speed   Time    Time     Time  Current\n",
      "                                 Dload  Upload   Total   Spent    Left  Speed\n",
      "100 45.4M  100 45.4M    0     0  7279k      0  0:00:06  0:00:06 --:--:-- 10.6M\n",
      "  % Total    % Received % Xferd  Average Speed   Time    Time     Time  Current\n",
      "                                 Dload  Upload   Total   Spent    Left  Speed\n",
      "100  660M  100  660M    0     0  10.9M      0  0:01:00  0:01:00 --:--:-- 5731k\n",
      "  % Total    % Received % Xferd  Average Speed   Time    Time     Time  Current\n",
      "                                 Dload  Upload   Total   Spent    Left  Speed\n",
      "100 7393k  100 7393k    0     0   570k      0  0:00:12  0:00:12 --:--:-- 1560k\n",
      "  % Total    % Received % Xferd  Average Speed   Time    Time     Time  Current\n",
      "                                 Dload  Upload   Total   Spent    Left  Speed\n",
      "100  263M  100  263M    0     0  9092k      0  0:00:29  0:00:29 --:--:-- 9226k\n"
     ]
    }
   ],
   "source": [
    "!mkdir -p imdb; \\\n",
    "curl -o imdb/title.basics.tsv.gz https://datasets.imdbws.com/title.basics.tsv.gz; \\\n",
    "curl -o imdb/title.akas.tsv.gz https://datasets.imdbws.com/title.akas.tsv.gz; \\\n",
    "curl -o imdb/title.crew.tsv.gz https://datasets.imdbws.com/title.crew.tsv.gz; \\\n",
    "curl -o imdb/title.episode.tsv.gz https://datasets.imdbws.com/title.episode.tsv.gz; \\\n",
    "curl -o imdb/title.principals.tsv.gz https://datasets.imdbws.com/title.principals.tsv.gz; \\\n",
    "curl -o imdb/title.ratings.tsv.gz https://datasets.imdbws.com/title.ratings.tsv.gz; \\\n",
    "curl -o imdb/name.basics.tsv.gz https://datasets.imdbws.com/name.basics.tsv.gz; \\\n",
    "gunzip imdb/*.tsv.gz"
   ]
  },
  {
   "cell_type": "code",
   "execution_count": 45,
   "metadata": {},
   "outputs": [
    {
     "name": "stdout",
     "output_type": "stream",
     "text": [
      "  % Total    % Received % Xferd  Average Speed   Time    Time     Time  Current\n",
      "                                 Dload  Upload   Total   Spent    Left  Speed\n",
      "  0     0    0     0    0     0      0      0 --:--:-- --:--:-- --:--:--     0\n",
      "100  195M  100  195M    0     0  4943k      0  0:00:40  0:00:40 --:--:-- 3275k     0  0:00:37  0:00:31  0:00:06 4678k\n",
      "Archive:  movielens/movielens-dataset.zip\n",
      "  inflating: genome_scores.csv       \n",
      "  inflating: genome_tags.csv         \n",
      "  inflating: link.csv                \n",
      "  inflating: movie.csv               \n",
      "  inflating: rating.csv              \n",
      "  inflating: tag.csv                 \n"
     ]
    }
   ],
   "source": [
    "!mkdir -p movielens; \\\n",
    "curl -L -o movielens/movielens-dataset.zip https://www.kaggle.com/api/v1/datasets/download/grouplens/movielens-20m-dataset; \\\n",
    "unzip movielens/movielens-dataset.zip -d movielens"
   ]
  },
  {
   "cell_type": "markdown",
   "metadata": {},
   "source": [
    "I also opted to download the more updated (2023) version of the MovieLens dataset from `https://grouplens.org/datasets/movielens/` "
   ]
  },
  {
   "cell_type": "code",
   "execution_count": null,
   "metadata": {},
   "outputs": [
    {
     "name": "stdout",
     "output_type": "stream",
     "text": [
      "  % Total    % Received % Xferd  Average Speed   Time    Time     Time  Current\n",
      "                                 Dload  Upload   Total   Spent    Left  Speed\n",
      " 58  227M   58  134M    0     0   145k      0  0:26:48  0:15:47  0:11:01  112k 0  0:27:54  0:01:41  0:26:13  127k0  0:28:33  0:03:19  0:25:14  162kk      0  0:32:30  0:04:33  0:27:57 60196  119k      0  0:32:32  0:04:42  0:27:50  121k 0:27:29  0:08:04  0:19:25  264kk      0  0:26:50  0:15:30  0:11:20  220k"
     ]
    }
   ],
   "source": [
    "!mkdir -p movielens32m; \\\n",
    "curl -L -o movielens32m/movielens-dataset.zip https://files.grouplens.org/datasets/movielens/ml-32m.zip ; \\\n",
    "unzip movielens32m/movielens-dataset.zip -d movielens32m"
   ]
  },
  {
   "cell_type": "markdown",
   "metadata": {},
   "source": [
    "Run `ingest_datasets.py` first. This will store the datasets into a DuckDB persistent store.\n",
    "\n",
    "Next run `profile_datasets.py` to produce HTML files containing analysis on data quality and profiles of each table. I have provided the outputs I generated in the `profiling` folder. Note that I set a limit of 10M records for profiling, as some of the datasets have more than 10M rows, which my PC could not handle."
   ]
  },
  {
   "cell_type": "markdown",
   "metadata": {},
   "source": [
    "## Data cleaning and exploration\n",
    "\n",
    "We list below some notable findings from the data profiling.\n",
    "\n",
    "\n",
    "name_basics\n",
    "- majority (>90%) have missing birthYear\n",
    "- a significant number (19%) have missing primaryProfession, most common: actor/actress\n",
    "- knownForTitles and primaryProfessions are lists of values that can be normalized\n",
    "\n",
    "\n",
    "title_basics\n",
    "- more than 75% of the titles are TV episodes\n",
    "- a significant number (12.5%) have missing startYear - a value that is important\n",
    "- most (68%) do not have runtimeMinutes - it is less important but could be valuable\n",
    "- genres still needs to be normalized\n",
    "\n",
    "title_akas\n",
    "- this table contains a list of alternate release versions for each unique title id from title_basics\n",
    "- the attributes and types columns have a hex value '\\x02' which is \";\", they need to be replaced with comma then normalized\n",
    "\n",
    "title_principals\n",
    "- majority (>80%) have missing job value, and many have missing characters value\n",
    "- from the whole dataset, 29M out of 89M rows have both missing job and characters - they only have category\n",
    "\n",
    "title_ratings\n",
    "- the averageRating varies around a median of 7.1\n",
    "- the numVotes is heavily skewed where a majority of titles have low values (median is only 26)"
   ]
  },
  {
   "cell_type": "code",
   "execution_count": 1,
   "metadata": {},
   "outputs": [],
   "source": [
    "import pandas as pd\n",
    "import duckdb\n",
    "db = duckdb.connect('imdb.duckdb')"
   ]
  },
  {
   "cell_type": "code",
   "execution_count": 3,
   "metadata": {},
   "outputs": [],
   "source": [
    "db.close()"
   ]
  },
  {
   "cell_type": "code",
   "execution_count": null,
   "metadata": {},
   "outputs": [],
   "source": []
  },
  {
   "cell_type": "code",
   "execution_count": 15,
   "metadata": {},
   "outputs": [
    {
     "data": {
      "text/plain": [
       "array([['informal literal title'],\n",
       "       ['8mm release title'],\n",
       "       ['orthographically correct title'],\n",
       "       ['bowdlerized title'],\n",
       "       ['teaser title'],\n",
       "       ['sixteenth season title'],\n",
       "       ['last season title'],\n",
       "       ['thirtysixth season title'],\n",
       "       ['YIVO translation'],\n",
       "       ['late Sunday edition'],\n",
       "       ['fourth season title\\x02recut version'],\n",
       "       ['thirtieth season title'],\n",
       "       ['R-rated version'],\n",
       "       ['approximation of original mirrored title'],\n",
       "       ['reissue title\\x02Yiddish dubbed'],\n",
       "       ['modern translation'],\n",
       "       ['thirteenth season title\\x02promotional title'],\n",
       "       ['IMAX version\\x02promotional title'],\n",
       "       ['title for episodes with guest hosts'],\n",
       "       ['reissue title\\x02YIVO translation'],\n",
       "       ['bootleg title\\x02X-rated version'],\n",
       "       ['poster title\\x02video box title'],\n",
       "       ['long title'],\n",
       "       ['complete title'],\n",
       "       ['third part title'],\n",
       "       ['TV listings title'],\n",
       "       ['informal alternative title'],\n",
       "       ['second season title'],\n",
       "       ['promotional title'],\n",
       "       ['censored version'],\n",
       "       ['fourth season title'],\n",
       "       ['Los Angeles premiere title'],\n",
       "       ['bootleg title'],\n",
       "       ['first episode title'],\n",
       "       ['ninth season title'],\n",
       "       ['video catalogue title'],\n",
       "       ['third season title'],\n",
       "       ['fifth season title'],\n",
       "       ['twentysecond season title'],\n",
       "       ['silent version'],\n",
       "       ['seventeenth season title'],\n",
       "       ['fifteenth season title'],\n",
       "       ['english transliteration'],\n",
       "       ['twentyeighth season title'],\n",
       "       ['Hakka dialect title'],\n",
       "       ['rerun title\\x02longer version'],\n",
       "       ['alternative spelling'],\n",
       "       ['alternative transliteration'],\n",
       "       ['DVD box title'],\n",
       "       ['cable TV title'],\n",
       "       ['16mm release title'],\n",
       "       ['racier version'],\n",
       "       ['closing credits title'],\n",
       "       ['daytime version title'],\n",
       "       ['LD title'],\n",
       "       ['new syndication title'],\n",
       "       ['weekend title'],\n",
       "       ['video box title\\x02cut version'],\n",
       "       ['twentyseventh season title'],\n",
       "       ['thirtythird season title'],\n",
       "       ['poster title'],\n",
       "       ['informal literal English title'],\n",
       "       ['review title'],\n",
       "       ['Berlin film festival title'],\n",
       "       ['syndication title'],\n",
       "       ['first season title'],\n",
       "       ['uncensored intended title'],\n",
       "       ['copyright title'],\n",
       "       ['longer version'],\n",
       "       ['unauthorized video title'],\n",
       "       ['reissue title\\x02cut version'],\n",
       "       ['Pay-TV title'],\n",
       "       ['3-D version'],\n",
       "       ['sixth season title'],\n",
       "       ['tenth season title'],\n",
       "       ['English translation of working title'],\n",
       "       ['twentyfirst season title'],\n",
       "       ['literal French title'],\n",
       "       ['correct transliteration'],\n",
       "       ['twentyfourth season title'],\n",
       "       ['twentyfifth season title'],\n",
       "       ['thirtyfirst season title'],\n",
       "       ['video box title\\x02POLart'],\n",
       "       ['POLart'],\n",
       "       [None],\n",
       "       ['informal title'],\n",
       "       ['new title'],\n",
       "       ['rerun title'],\n",
       "       ['anthology series'],\n",
       "       ['fake working title'],\n",
       "       ['video CD title'],\n",
       "       ['long new title'],\n",
       "       ['summer title'],\n",
       "       ['second copyright title'],\n",
       "       ['thirteenth season title'],\n",
       "       ['reissue title\\x02short version'],\n",
       "       ['reissue title\\x02racier version'],\n",
       "       ['second part title\\x028mm release title'],\n",
       "       ['thirtyninth season title'],\n",
       "       ['thirtyseventh season title'],\n",
       "       ['incorrect title'],\n",
       "       ['8mm release title\\x02short version'],\n",
       "       ['reissue title\\x02added framing sequences and narration in Yiddish'],\n",
       "       ['Bilbao festival title'],\n",
       "       ['video box title\\x02orthographically correct title'],\n",
       "       ['armed forces circuit title'],\n",
       "       ['Locarno film festival title'],\n",
       "       ['pre-release title'],\n",
       "       ['literal title'],\n",
       "       ['subtitle'],\n",
       "       ['trailer title'],\n",
       "       ['literal English title'],\n",
       "       ['original script title'],\n",
       "       ['Venice film festival title'],\n",
       "       ['premiere title'],\n",
       "       ['16mm rental title'],\n",
       "       ['cut version'],\n",
       "       ['recut version'],\n",
       "       ['fourteenth season title'],\n",
       "       ['Los Angeles première title'],\n",
       "       ['eighth season title'],\n",
       "       ['soft porn version'],\n",
       "       ['eleventh season title'],\n",
       "       ['nineteenth season title'],\n",
       "       ['twentieth season title'],\n",
       "       ['second segment title'],\n",
       "       ['first segment title'],\n",
       "       ['informal title\\x02literal title'],\n",
       "       ['twentysixth season title'],\n",
       "       ['thirtysecond season title'],\n",
       "       ['thirtyfifth season title'],\n",
       "       ['original pilot title'],\n",
       "       ['fourth part title'],\n",
       "       ['fifth part title'],\n",
       "       ['cable TV title\\x02cut version'],\n",
       "       ['fortieth season title'],\n",
       "       ['dubbed version\\x02recut version'],\n",
       "       ['transliterated title'],\n",
       "       ['reissue title'],\n",
       "       ['first part title'],\n",
       "       ['second part title'],\n",
       "       ['informal English title'],\n",
       "       ['DVD menu title'],\n",
       "       ['segment title'],\n",
       "       ['literal translation of working title'],\n",
       "       ['informal short title'],\n",
       "       ['restored version'],\n",
       "       ['seventh season title'],\n",
       "       ['IMAX version'],\n",
       "       [\"director's cut\"],\n",
       "       ['promotional abbreviation'],\n",
       "       ['expansion title'],\n",
       "       ['eighteenth season title'],\n",
       "       ['first episodes title'],\n",
       "       ['redubbed comic version'],\n",
       "       ['MIFED title'],\n",
       "       ['non-modified Hepburn romanization'],\n",
       "       ['PC version'],\n",
       "       ['thirtyeighth season title'],\n",
       "       ['thirtyfourth season title'],\n",
       "       ['Bable dialect title'],\n",
       "       ['Yiddish dubbed'],\n",
       "       ['third segment title'],\n",
       "       ['première title'],\n",
       "       ['video box title'],\n",
       "       ['original subtitled version'],\n",
       "       ['dubbed version'],\n",
       "       ['series title'],\n",
       "       ['theatrical title'],\n",
       "       ['short title'],\n",
       "       ['short version'],\n",
       "       ['Cannes festival title'],\n",
       "       ['3-D video title'],\n",
       "       ['game box title'],\n",
       "       ['twentythird season title'],\n",
       "       ['X-rated version'],\n",
       "       ['videogame episode'],\n",
       "       ['twelfth season title'],\n",
       "       ['reissue title\\x02recut version'],\n",
       "       ['third and fourth season title'],\n",
       "       ['rumored'],\n",
       "       ['closing credits title\\x02pre-release title'],\n",
       "       ['twentyninth season title'],\n",
       "       ['American Mutoscope & Biograph catalog title'],\n",
       "       ['GameCube version']], dtype=object)"
      ]
     },
     "execution_count": 15,
     "metadata": {},
     "output_type": "execute_result"
    }
   ],
   "source": [
    "db.execute('select distinct attributes from title_akas_raw').fetchdf().values"
   ]
  },
  {
   "cell_type": "code",
   "execution_count": 2,
   "metadata": {},
   "outputs": [
    {
     "data": {
      "text/plain": [
       "array([['imdbDisplay\\x02working'],\n",
       "       ['alternative\\x02video'],\n",
       "       ['working\\x02alternative'],\n",
       "       ['working\\x02festival'],\n",
       "       ['alternative\\x02festival'],\n",
       "       [None],\n",
       "       ['imdbDisplay'],\n",
       "       ['imdbDisplay\\x02tv'],\n",
       "       ['imdbDisplay\\x02festival'],\n",
       "       ['original'],\n",
       "       ['tv'],\n",
       "       ['video'],\n",
       "       ['alternative\\x02tv'],\n",
       "       ['working'],\n",
       "       ['dvd'],\n",
       "       ['working\\x02tv'],\n",
       "       ['working\\x02video'],\n",
       "       ['dvd\\x02video'],\n",
       "       ['alternative'],\n",
       "       ['imdbDisplay\\x02dvd'],\n",
       "       ['festival'],\n",
       "       ['imdbDisplay\\x02video'],\n",
       "       ['tv\\x02video'],\n",
       "       ['dvd\\x02alternative']], dtype=object)"
      ]
     },
     "execution_count": 2,
     "metadata": {},
     "output_type": "execute_result"
    }
   ],
   "source": [
    "db.execute('select distinct types from title_akas_raw').fetchdf().values"
   ]
  },
  {
   "cell_type": "code",
   "execution_count": 17,
   "metadata": {},
   "outputs": [
    {
     "data": {
      "application/vnd.jupyter.widget-view+json": {
       "model_id": "07234505577244fba9552aa75f2f96e3",
       "version_major": 2,
       "version_minor": 0
      },
      "text/plain": [
       "FloatProgress(value=0.0, layout=Layout(width='auto'), style=ProgressStyle(bar_color='black'))"
      ]
     },
     "metadata": {},
     "output_type": "display_data"
    },
    {
     "data": {
      "text/plain": [
       "<duckdb.duckdb.DuckDBPyConnection at 0x7f7e949db570>"
      ]
     },
     "execution_count": 17,
     "metadata": {},
     "output_type": "execute_result"
    }
   ],
   "source": [
    "db.execute(\"\"\"\n",
    "    CREATE TABLE title_akas AS \n",
    "    SELECT \n",
    "        titleId, ordering, title, region, language,\n",
    "        string_to_array(replace(types, '\\x02', ';'), ';') as types,\n",
    "        string_to_array(replace(attributes, '\\x02', ';'), ';') as attributes,\n",
    "        isOriginalTitle\n",
    "    FROM title_akas_raw\n",
    "\"\"\")"
   ]
  },
  {
   "cell_type": "code",
   "execution_count": null,
   "metadata": {},
   "outputs": [
    {
     "data": {
      "text/html": [
       "<div>\n",
       "<style scoped>\n",
       "    .dataframe tbody tr th:only-of-type {\n",
       "        vertical-align: middle;\n",
       "    }\n",
       "\n",
       "    .dataframe tbody tr th {\n",
       "        vertical-align: top;\n",
       "    }\n",
       "\n",
       "    .dataframe thead th {\n",
       "        text-align: right;\n",
       "    }\n",
       "</style>\n",
       "<table border=\"1\" class=\"dataframe\">\n",
       "  <thead>\n",
       "    <tr style=\"text-align: right;\">\n",
       "      <th></th>\n",
       "      <th>column_name</th>\n",
       "      <th>column_type</th>\n",
       "      <th>null</th>\n",
       "      <th>key</th>\n",
       "      <th>default</th>\n",
       "      <th>extra</th>\n",
       "    </tr>\n",
       "  </thead>\n",
       "  <tbody>\n",
       "    <tr>\n",
       "      <th>0</th>\n",
       "      <td>titleId</td>\n",
       "      <td>VARCHAR</td>\n",
       "      <td>YES</td>\n",
       "      <td>None</td>\n",
       "      <td>None</td>\n",
       "      <td>None</td>\n",
       "    </tr>\n",
       "    <tr>\n",
       "      <th>1</th>\n",
       "      <td>ordering</td>\n",
       "      <td>BIGINT</td>\n",
       "      <td>YES</td>\n",
       "      <td>None</td>\n",
       "      <td>None</td>\n",
       "      <td>None</td>\n",
       "    </tr>\n",
       "    <tr>\n",
       "      <th>2</th>\n",
       "      <td>title</td>\n",
       "      <td>VARCHAR</td>\n",
       "      <td>YES</td>\n",
       "      <td>None</td>\n",
       "      <td>None</td>\n",
       "      <td>None</td>\n",
       "    </tr>\n",
       "    <tr>\n",
       "      <th>3</th>\n",
       "      <td>region</td>\n",
       "      <td>VARCHAR</td>\n",
       "      <td>YES</td>\n",
       "      <td>None</td>\n",
       "      <td>None</td>\n",
       "      <td>None</td>\n",
       "    </tr>\n",
       "    <tr>\n",
       "      <th>4</th>\n",
       "      <td>language</td>\n",
       "      <td>VARCHAR</td>\n",
       "      <td>YES</td>\n",
       "      <td>None</td>\n",
       "      <td>None</td>\n",
       "      <td>None</td>\n",
       "    </tr>\n",
       "    <tr>\n",
       "      <th>5</th>\n",
       "      <td>types</td>\n",
       "      <td>VARCHAR[]</td>\n",
       "      <td>YES</td>\n",
       "      <td>None</td>\n",
       "      <td>None</td>\n",
       "      <td>None</td>\n",
       "    </tr>\n",
       "    <tr>\n",
       "      <th>6</th>\n",
       "      <td>attributes</td>\n",
       "      <td>VARCHAR[]</td>\n",
       "      <td>YES</td>\n",
       "      <td>None</td>\n",
       "      <td>None</td>\n",
       "      <td>None</td>\n",
       "    </tr>\n",
       "    <tr>\n",
       "      <th>7</th>\n",
       "      <td>isOriginalTitle</td>\n",
       "      <td>BIGINT</td>\n",
       "      <td>YES</td>\n",
       "      <td>None</td>\n",
       "      <td>None</td>\n",
       "      <td>None</td>\n",
       "    </tr>\n",
       "  </tbody>\n",
       "</table>\n",
       "</div>"
      ],
      "text/plain": [
       "       column_name column_type null   key default extra\n",
       "0          titleId     VARCHAR  YES  None    None  None\n",
       "1         ordering      BIGINT  YES  None    None  None\n",
       "2            title     VARCHAR  YES  None    None  None\n",
       "3           region     VARCHAR  YES  None    None  None\n",
       "4         language     VARCHAR  YES  None    None  None\n",
       "5            types   VARCHAR[]  YES  None    None  None\n",
       "6       attributes   VARCHAR[]  YES  None    None  None\n",
       "7  isOriginalTitle      BIGINT  YES  None    None  None"
      ]
     },
     "metadata": {},
     "output_type": "display_data"
    }
   ],
   "source": [
    "db.execute('describe title_akas').fetchdf()"
   ]
  },
  {
   "cell_type": "code",
   "execution_count": null,
   "metadata": {},
   "outputs": [],
   "source": []
  },
  {
   "cell_type": "code",
   "execution_count": null,
   "metadata": {},
   "outputs": [],
   "source": []
  },
  {
   "cell_type": "code",
   "execution_count": null,
   "metadata": {},
   "outputs": [],
   "source": [
    "remove principals copy"
   ]
  },
  {
   "cell_type": "code",
   "execution_count": null,
   "metadata": {},
   "outputs": [],
   "source": [
    "data cleaning\n",
    "title_basics\n",
    "primary title missing 18"
   ]
  },
  {
   "cell_type": "code",
   "execution_count": null,
   "metadata": {},
   "outputs": [],
   "source": []
  },
  {
   "cell_type": "code",
   "execution_count": null,
   "metadata": {},
   "outputs": [],
   "source": [
    "tbasics = pd.read_csv('imdb/title.basics.tsv', sep='\\t', quoting=csv.QUOTE_NONE, na_values='\\\\N')"
   ]
  },
  {
   "cell_type": "code",
   "execution_count": 38,
   "metadata": {},
   "outputs": [
    {
     "name": "stdout",
     "output_type": "stream",
     "text": [
      "<class 'pandas.core.frame.DataFrame'>\n",
      "RangeIndex: 11272947 entries, 0 to 11272946\n",
      "Data columns (total 9 columns):\n",
      " #   Column          Non-Null Count     Dtype  \n",
      "---  ------          --------------     -----  \n",
      " 0   tconst          11272947 non-null  object \n",
      " 1   titleType       11272947 non-null  object \n",
      " 2   primaryTitle    11272928 non-null  object \n",
      " 3   originalTitle   11272928 non-null  object \n",
      " 4   isAdult         11272947 non-null  int64  \n",
      " 5   startYear       9856455 non-null   float64\n",
      " 6   endYear         132734 non-null    float64\n",
      " 7   runtimeMinutes  3561416 non-null   float64\n",
      " 8   genres          10773067 non-null  object \n",
      "dtypes: float64(3), int64(1), object(5)\n",
      "memory usage: 774.1+ MB\n"
     ]
    }
   ],
   "source": [
    "tbasics.info(verbose=True, show_counts=True)"
   ]
  },
  {
   "cell_type": "code",
   "execution_count": 40,
   "metadata": {},
   "outputs": [
    {
     "data": {
      "text/html": [
       "<div>\n",
       "<style scoped>\n",
       "    .dataframe tbody tr th:only-of-type {\n",
       "        vertical-align: middle;\n",
       "    }\n",
       "\n",
       "    .dataframe tbody tr th {\n",
       "        vertical-align: top;\n",
       "    }\n",
       "\n",
       "    .dataframe thead th {\n",
       "        text-align: right;\n",
       "    }\n",
       "</style>\n",
       "<table border=\"1\" class=\"dataframe\">\n",
       "  <thead>\n",
       "    <tr style=\"text-align: right;\">\n",
       "      <th></th>\n",
       "      <th>tconst</th>\n",
       "      <th>titleType</th>\n",
       "      <th>primaryTitle</th>\n",
       "      <th>originalTitle</th>\n",
       "      <th>isAdult</th>\n",
       "      <th>startYear</th>\n",
       "      <th>endYear</th>\n",
       "      <th>runtimeMinutes</th>\n",
       "      <th>genres</th>\n",
       "    </tr>\n",
       "  </thead>\n",
       "  <tbody>\n",
       "    <tr>\n",
       "      <th>9457687</th>\n",
       "      <td>tt5924560</td>\n",
       "      <td>movie</td>\n",
       "      <td>Gray's Disconnect</td>\n",
       "      <td>Gray's Disconnect</td>\n",
       "      <td>0</td>\n",
       "      <td>2025.0</td>\n",
       "      <td>NaN</td>\n",
       "      <td>65.0</td>\n",
       "      <td>Crime,Drama,Thriller</td>\n",
       "    </tr>\n",
       "    <tr>\n",
       "      <th>3410455</th>\n",
       "      <td>tt14477560</td>\n",
       "      <td>movie</td>\n",
       "      <td>The Second Casualty</td>\n",
       "      <td>The Second Casualty</td>\n",
       "      <td>0</td>\n",
       "      <td>2025.0</td>\n",
       "      <td>NaN</td>\n",
       "      <td>90.0</td>\n",
       "      <td>War</td>\n",
       "    </tr>\n",
       "    <tr>\n",
       "      <th>7192234</th>\n",
       "      <td>tt29928512</td>\n",
       "      <td>movie</td>\n",
       "      <td>Blood Behind Us</td>\n",
       "      <td>Blood Behind Us</td>\n",
       "      <td>0</td>\n",
       "      <td>2025.0</td>\n",
       "      <td>NaN</td>\n",
       "      <td>NaN</td>\n",
       "      <td>Action,Drama,Western</td>\n",
       "    </tr>\n",
       "    <tr>\n",
       "      <th>7687890</th>\n",
       "      <td>tt32135710</td>\n",
       "      <td>movie</td>\n",
       "      <td>Bromance</td>\n",
       "      <td>Bromance</td>\n",
       "      <td>0</td>\n",
       "      <td>2025.0</td>\n",
       "      <td>NaN</td>\n",
       "      <td>NaN</td>\n",
       "      <td>NaN</td>\n",
       "    </tr>\n",
       "    <tr>\n",
       "      <th>2609870</th>\n",
       "      <td>tt13000882</td>\n",
       "      <td>tvEpisode</td>\n",
       "      <td>The Painter</td>\n",
       "      <td>The Painter</td>\n",
       "      <td>0</td>\n",
       "      <td>2025.0</td>\n",
       "      <td>NaN</td>\n",
       "      <td>NaN</td>\n",
       "      <td>Drama,Fantasy,Horror</td>\n",
       "    </tr>\n",
       "    <tr>\n",
       "      <th>7652503</th>\n",
       "      <td>tt32020189</td>\n",
       "      <td>movie</td>\n",
       "      <td>De La Cruz</td>\n",
       "      <td>De La Cruz</td>\n",
       "      <td>0</td>\n",
       "      <td>2025.0</td>\n",
       "      <td>NaN</td>\n",
       "      <td>128.0</td>\n",
       "      <td>Drama</td>\n",
       "    </tr>\n",
       "    <tr>\n",
       "      <th>8358659</th>\n",
       "      <td>tt34710193</td>\n",
       "      <td>tvEpisode</td>\n",
       "      <td>Episode #8.1</td>\n",
       "      <td>Episode #8.1</td>\n",
       "      <td>0</td>\n",
       "      <td>2025.0</td>\n",
       "      <td>NaN</td>\n",
       "      <td>NaN</td>\n",
       "      <td>NaN</td>\n",
       "    </tr>\n",
       "    <tr>\n",
       "      <th>1755373</th>\n",
       "      <td>tt11422710</td>\n",
       "      <td>tvMiniSeries</td>\n",
       "      <td>DaHaiGang</td>\n",
       "      <td>DaHaiGang</td>\n",
       "      <td>0</td>\n",
       "      <td>2025.0</td>\n",
       "      <td>NaN</td>\n",
       "      <td>NaN</td>\n",
       "      <td>Drama</td>\n",
       "    </tr>\n",
       "    <tr>\n",
       "      <th>7822665</th>\n",
       "      <td>tt32524691</td>\n",
       "      <td>tvSeries</td>\n",
       "      <td>Romantics Anonymous</td>\n",
       "      <td>Romantics Anonymous</td>\n",
       "      <td>0</td>\n",
       "      <td>2025.0</td>\n",
       "      <td>NaN</td>\n",
       "      <td>NaN</td>\n",
       "      <td>Comedy,Drama,Romance</td>\n",
       "    </tr>\n",
       "    <tr>\n",
       "      <th>6347902</th>\n",
       "      <td>tt26743210</td>\n",
       "      <td>movie</td>\n",
       "      <td>How to Train Your Dragon</td>\n",
       "      <td>How to Train Your Dragon</td>\n",
       "      <td>0</td>\n",
       "      <td>2025.0</td>\n",
       "      <td>NaN</td>\n",
       "      <td>NaN</td>\n",
       "      <td>Action,Adventure,Comedy</td>\n",
       "    </tr>\n",
       "    <tr>\n",
       "      <th>5857583</th>\n",
       "      <td>tt23040026</td>\n",
       "      <td>movie</td>\n",
       "      <td>The Charlotte in Multilink World Movie</td>\n",
       "      <td>The Charlotte in Multilink World Movie</td>\n",
       "      <td>0</td>\n",
       "      <td>2026.0</td>\n",
       "      <td>NaN</td>\n",
       "      <td>NaN</td>\n",
       "      <td>Adventure,Fantasy</td>\n",
       "    </tr>\n",
       "    <tr>\n",
       "      <th>1496404</th>\n",
       "      <td>tt10953362</td>\n",
       "      <td>tvSeries</td>\n",
       "      <td>ReVerso</td>\n",
       "      <td>ReVerso</td>\n",
       "      <td>0</td>\n",
       "      <td>2025.0</td>\n",
       "      <td>NaN</td>\n",
       "      <td>NaN</td>\n",
       "      <td>Crime</td>\n",
       "    </tr>\n",
       "    <tr>\n",
       "      <th>4892527</th>\n",
       "      <td>tt18815054</td>\n",
       "      <td>movie</td>\n",
       "      <td>The Newsreel: Characterization of a Subversive...</td>\n",
       "      <td>The Newsreel: Characterization of a Subversive...</td>\n",
       "      <td>0</td>\n",
       "      <td>2025.0</td>\n",
       "      <td>NaN</td>\n",
       "      <td>NaN</td>\n",
       "      <td>Documentary</td>\n",
       "    </tr>\n",
       "    <tr>\n",
       "      <th>7974315</th>\n",
       "      <td>tt33039451</td>\n",
       "      <td>short</td>\n",
       "      <td>Mantis</td>\n",
       "      <td>Mantis</td>\n",
       "      <td>0</td>\n",
       "      <td>2025.0</td>\n",
       "      <td>NaN</td>\n",
       "      <td>NaN</td>\n",
       "      <td>Drama,Short</td>\n",
       "    </tr>\n",
       "    <tr>\n",
       "      <th>8361806</th>\n",
       "      <td>tt34723100</td>\n",
       "      <td>short</td>\n",
       "      <td>Fratres</td>\n",
       "      <td>Fratres</td>\n",
       "      <td>0</td>\n",
       "      <td>2025.0</td>\n",
       "      <td>NaN</td>\n",
       "      <td>NaN</td>\n",
       "      <td>Crime,Short</td>\n",
       "    </tr>\n",
       "    <tr>\n",
       "      <th>8340334</th>\n",
       "      <td>tt34616722</td>\n",
       "      <td>movie</td>\n",
       "      <td>Ajab Gajab Ishq</td>\n",
       "      <td>Ajab Gajab Ishq</td>\n",
       "      <td>0</td>\n",
       "      <td>2025.0</td>\n",
       "      <td>NaN</td>\n",
       "      <td>NaN</td>\n",
       "      <td>Romance</td>\n",
       "    </tr>\n",
       "    <tr>\n",
       "      <th>8124492</th>\n",
       "      <td>tt33397168</td>\n",
       "      <td>tvEpisode</td>\n",
       "      <td>Episode #1.3</td>\n",
       "      <td>Episode #1.3</td>\n",
       "      <td>0</td>\n",
       "      <td>2025.0</td>\n",
       "      <td>NaN</td>\n",
       "      <td>NaN</td>\n",
       "      <td>Drama,Mystery,Thriller</td>\n",
       "    </tr>\n",
       "    <tr>\n",
       "      <th>7872462</th>\n",
       "      <td>tt32655635</td>\n",
       "      <td>tvEpisode</td>\n",
       "      <td>Episode #3.1</td>\n",
       "      <td>Episode #3.1</td>\n",
       "      <td>0</td>\n",
       "      <td>2025.0</td>\n",
       "      <td>NaN</td>\n",
       "      <td>NaN</td>\n",
       "      <td>Action,Adventure,Reality-TV</td>\n",
       "    </tr>\n",
       "    <tr>\n",
       "      <th>5914956</th>\n",
       "      <td>tt23398540</td>\n",
       "      <td>movie</td>\n",
       "      <td>Thug Life</td>\n",
       "      <td>Thug Life</td>\n",
       "      <td>0</td>\n",
       "      <td>2025.0</td>\n",
       "      <td>NaN</td>\n",
       "      <td>NaN</td>\n",
       "      <td>Action,Drama,Thriller</td>\n",
       "    </tr>\n",
       "    <tr>\n",
       "      <th>8083986</th>\n",
       "      <td>tt33320727</td>\n",
       "      <td>tvEpisode</td>\n",
       "      <td>Episode #1.70</td>\n",
       "      <td>Episode #1.70</td>\n",
       "      <td>0</td>\n",
       "      <td>2025.0</td>\n",
       "      <td>NaN</td>\n",
       "      <td>NaN</td>\n",
       "      <td>Drama</td>\n",
       "    </tr>\n",
       "  </tbody>\n",
       "</table>\n",
       "</div>"
      ],
      "text/plain": [
       "             tconst     titleType  \\\n",
       "9457687   tt5924560         movie   \n",
       "3410455  tt14477560         movie   \n",
       "7192234  tt29928512         movie   \n",
       "7687890  tt32135710         movie   \n",
       "2609870  tt13000882     tvEpisode   \n",
       "7652503  tt32020189         movie   \n",
       "8358659  tt34710193     tvEpisode   \n",
       "1755373  tt11422710  tvMiniSeries   \n",
       "7822665  tt32524691      tvSeries   \n",
       "6347902  tt26743210         movie   \n",
       "5857583  tt23040026         movie   \n",
       "1496404  tt10953362      tvSeries   \n",
       "4892527  tt18815054         movie   \n",
       "7974315  tt33039451         short   \n",
       "8361806  tt34723100         short   \n",
       "8340334  tt34616722         movie   \n",
       "8124492  tt33397168     tvEpisode   \n",
       "7872462  tt32655635     tvEpisode   \n",
       "5914956  tt23398540         movie   \n",
       "8083986  tt33320727     tvEpisode   \n",
       "\n",
       "                                              primaryTitle  \\\n",
       "9457687                                  Gray's Disconnect   \n",
       "3410455                                The Second Casualty   \n",
       "7192234                                    Blood Behind Us   \n",
       "7687890                                           Bromance   \n",
       "2609870                                        The Painter   \n",
       "7652503                                         De La Cruz   \n",
       "8358659                                       Episode #8.1   \n",
       "1755373                                          DaHaiGang   \n",
       "7822665                                Romantics Anonymous   \n",
       "6347902                           How to Train Your Dragon   \n",
       "5857583             The Charlotte in Multilink World Movie   \n",
       "1496404                                            ReVerso   \n",
       "4892527  The Newsreel: Characterization of a Subversive...   \n",
       "7974315                                             Mantis   \n",
       "8361806                                            Fratres   \n",
       "8340334                                    Ajab Gajab Ishq   \n",
       "8124492                                       Episode #1.3   \n",
       "7872462                                       Episode #3.1   \n",
       "5914956                                          Thug Life   \n",
       "8083986                                      Episode #1.70   \n",
       "\n",
       "                                             originalTitle  isAdult  \\\n",
       "9457687                                  Gray's Disconnect        0   \n",
       "3410455                                The Second Casualty        0   \n",
       "7192234                                    Blood Behind Us        0   \n",
       "7687890                                           Bromance        0   \n",
       "2609870                                        The Painter        0   \n",
       "7652503                                         De La Cruz        0   \n",
       "8358659                                       Episode #8.1        0   \n",
       "1755373                                          DaHaiGang        0   \n",
       "7822665                                Romantics Anonymous        0   \n",
       "6347902                           How to Train Your Dragon        0   \n",
       "5857583             The Charlotte in Multilink World Movie        0   \n",
       "1496404                                            ReVerso        0   \n",
       "4892527  The Newsreel: Characterization of a Subversive...        0   \n",
       "7974315                                             Mantis        0   \n",
       "8361806                                            Fratres        0   \n",
       "8340334                                    Ajab Gajab Ishq        0   \n",
       "8124492                                       Episode #1.3        0   \n",
       "7872462                                       Episode #3.1        0   \n",
       "5914956                                          Thug Life        0   \n",
       "8083986                                      Episode #1.70        0   \n",
       "\n",
       "         startYear  endYear  runtimeMinutes                       genres  \n",
       "9457687     2025.0      NaN            65.0         Crime,Drama,Thriller  \n",
       "3410455     2025.0      NaN            90.0                          War  \n",
       "7192234     2025.0      NaN             NaN         Action,Drama,Western  \n",
       "7687890     2025.0      NaN             NaN                          NaN  \n",
       "2609870     2025.0      NaN             NaN         Drama,Fantasy,Horror  \n",
       "7652503     2025.0      NaN           128.0                        Drama  \n",
       "8358659     2025.0      NaN             NaN                          NaN  \n",
       "1755373     2025.0      NaN             NaN                        Drama  \n",
       "7822665     2025.0      NaN             NaN         Comedy,Drama,Romance  \n",
       "6347902     2025.0      NaN             NaN      Action,Adventure,Comedy  \n",
       "5857583     2026.0      NaN             NaN            Adventure,Fantasy  \n",
       "1496404     2025.0      NaN             NaN                        Crime  \n",
       "4892527     2025.0      NaN             NaN                  Documentary  \n",
       "7974315     2025.0      NaN             NaN                  Drama,Short  \n",
       "8361806     2025.0      NaN             NaN                  Crime,Short  \n",
       "8340334     2025.0      NaN             NaN                      Romance  \n",
       "8124492     2025.0      NaN             NaN       Drama,Mystery,Thriller  \n",
       "7872462     2025.0      NaN             NaN  Action,Adventure,Reality-TV  \n",
       "5914956     2025.0      NaN             NaN        Action,Drama,Thriller  \n",
       "8083986     2025.0      NaN             NaN                        Drama  "
      ]
     },
     "execution_count": 40,
     "metadata": {},
     "output_type": "execute_result"
    }
   ],
   "source": [
    "tbasics[tbasics[\"startYear\"]>2024].sample(20)"
   ]
  },
  {
   "cell_type": "code",
   "execution_count": 33,
   "metadata": {},
   "outputs": [],
   "source": [
    "tbasics.startYear = tbasics.startYear.astype('Int64')"
   ]
  },
  {
   "cell_type": "code",
   "execution_count": null,
   "metadata": {},
   "outputs": [
    {
     "name": "stdout",
     "output_type": "stream",
     "text": [
      "<class 'pandas.core.frame.DataFrame'>\n",
      "RangeIndex: 11272947 entries, 0 to 11272946\n",
      "Data columns (total 9 columns):\n",
      " #   Column          Dtype \n",
      "---  ------          ----- \n",
      " 0   tconst          object\n",
      " 1   titleType       object\n",
      " 2   primaryTitle    object\n",
      " 3   originalTitle   object\n",
      " 4   isAdult         int64 \n",
      " 5   startYear       object\n",
      " 6   endYear         object\n",
      " 7   runtimeMinutes  object\n",
      " 8   genres          object\n",
      "dtypes: int64(1), object(8)\n",
      "memory usage: 774.1+ MB\n"
     ]
    }
   ],
   "source": [
    "tbasics = pd.read_csv('imdb/title.basics.tsv', sep='\\t', quoting=csv.QUOTE_NONE)\n",
    "tbasics.info()"
   ]
  },
  {
   "cell_type": "code",
   "execution_count": 13,
   "metadata": {},
   "outputs": [
    {
     "data": {
      "text/plain": [
       "titleType\n",
       "tvEpisode       8659707\n",
       "short           1030820\n",
       "movie            699012\n",
       "video            301285\n",
       "tvSeries         273345\n",
       "tvMovie          149006\n",
       "tvMiniSeries      58171\n",
       "tvSpecial         50453\n",
       "videoGame         40673\n",
       "tvShort           10474\n",
       "tvPilot               1\n",
       "Name: count, dtype: int64"
      ]
     },
     "execution_count": 13,
     "metadata": {},
     "output_type": "execute_result"
    }
   ],
   "source": [
    "tbasics.titleType.value_counts()"
   ]
  },
  {
   "cell_type": "code",
   "execution_count": 11,
   "metadata": {},
   "outputs": [
    {
     "data": {
      "text/plain": [
       "['1874',\n",
       " '1878',\n",
       " '1881',\n",
       " '1882',\n",
       " '1883',\n",
       " '1885',\n",
       " '1887',\n",
       " '1888',\n",
       " '1889',\n",
       " '1890',\n",
       " '1891',\n",
       " '1892',\n",
       " '1893',\n",
       " '1894',\n",
       " '1895',\n",
       " '1896',\n",
       " '1897',\n",
       " '1898',\n",
       " '1899',\n",
       " '1900',\n",
       " '1901',\n",
       " '1902',\n",
       " '1903',\n",
       " '1904',\n",
       " '1905',\n",
       " '1906',\n",
       " '1907',\n",
       " '1908',\n",
       " '1909',\n",
       " '1910',\n",
       " '1911',\n",
       " '1912',\n",
       " '1913',\n",
       " '1914',\n",
       " '1915',\n",
       " '1916',\n",
       " '1917',\n",
       " '1918',\n",
       " '1919',\n",
       " '1920',\n",
       " '1921',\n",
       " '1922',\n",
       " '1923',\n",
       " '1924',\n",
       " '1925',\n",
       " '1926',\n",
       " '1927',\n",
       " '1928',\n",
       " '1929',\n",
       " '1930',\n",
       " '1931',\n",
       " '1932',\n",
       " '1933',\n",
       " '1934',\n",
       " '1935',\n",
       " '1936',\n",
       " '1937',\n",
       " '1938',\n",
       " '1939',\n",
       " '1940',\n",
       " '1941',\n",
       " '1942',\n",
       " '1943',\n",
       " '1944',\n",
       " '1945',\n",
       " '1946',\n",
       " '1947',\n",
       " '1948',\n",
       " '1949',\n",
       " '1950',\n",
       " '1951',\n",
       " '1952',\n",
       " '1953',\n",
       " '1954',\n",
       " '1955',\n",
       " '1956',\n",
       " '1957',\n",
       " '1958',\n",
       " '1959',\n",
       " '1960',\n",
       " '1961',\n",
       " '1962',\n",
       " '1963',\n",
       " '1964',\n",
       " '1965',\n",
       " '1966',\n",
       " '1967',\n",
       " '1968',\n",
       " '1969',\n",
       " '1970',\n",
       " '1971',\n",
       " '1972',\n",
       " '1973',\n",
       " '1974',\n",
       " '1975',\n",
       " '1976',\n",
       " '1977',\n",
       " '1978',\n",
       " '1979',\n",
       " '1980',\n",
       " '1981',\n",
       " '1982',\n",
       " '1983',\n",
       " '1984',\n",
       " '1985',\n",
       " '1986',\n",
       " '1987',\n",
       " '1988',\n",
       " '1989',\n",
       " '1990',\n",
       " '1991',\n",
       " '1992',\n",
       " '1993',\n",
       " '1994',\n",
       " '1995',\n",
       " '1996',\n",
       " '1997',\n",
       " '1998',\n",
       " '1999',\n",
       " '2000',\n",
       " '2001',\n",
       " '2002',\n",
       " '2003',\n",
       " '2004',\n",
       " '2005',\n",
       " '2006',\n",
       " '2007',\n",
       " '2008',\n",
       " '2009',\n",
       " '2010',\n",
       " '2011',\n",
       " '2012',\n",
       " '2013',\n",
       " '2014',\n",
       " '2015',\n",
       " '2016',\n",
       " '2017',\n",
       " '2018',\n",
       " '2019',\n",
       " '2020',\n",
       " '2021',\n",
       " '2022',\n",
       " '2023',\n",
       " '2024',\n",
       " '2025',\n",
       " '2026',\n",
       " '2027',\n",
       " '2028',\n",
       " '2029',\n",
       " '2030',\n",
       " '2031',\n",
       " '\\\\N']"
      ]
     },
     "execution_count": 11,
     "metadata": {},
     "output_type": "execute_result"
    }
   ],
   "source": [
    "sorted(tbasics.startYear.unique())"
   ]
  },
  {
   "cell_type": "code",
   "execution_count": 25,
   "metadata": {},
   "outputs": [
    {
     "data": {
      "text/plain": [
       "array([0, 1])"
      ]
     },
     "execution_count": 25,
     "metadata": {},
     "output_type": "execute_result"
    }
   ],
   "source": [
    "tbasics.isAdult.unique()"
   ]
  },
  {
   "cell_type": "code",
   "execution_count": 21,
   "metadata": {},
   "outputs": [
    {
     "name": "stdout",
     "output_type": "stream",
     "text": [
      "tt31845330\ttvEpisode\tEpisode #1.19\tEpisode #1.19\t0\t1997\t\\N\t\\N\tHistory,Romance\n",
      "tt31845331\ttvEpisode\tEpisode #1.20\tEpisode #1.20\t0\t1997\t\\N\t\\N\tHistory,Romance\n",
      "tt31845333\ttvEpisode\tEpisode #1.21\tEpisode #1.21\t0\t1997\t\\N\t\\N\tHistory,Romance\n",
      "tt31845334\ttvEpisode\t\"Village of the Giants 65\t\"Village of the Giants 65\t0\t2019\t\\N\t\\N\tComedy,Drama,Fantasy\n",
      "tt31845335\ttvEpisode\tEpisode #1.56\tEpisode #1.56\t0\t2024\t\\N\t\\N\tComedy,Drama,Family\n",
      "tt31845338\ttvEpisode\tMr Sardonicus '61\tMr Sardonicus '61\t0\t2019\t\\N\t\\N\tComedy,Drama,Fantasy\n",
      "tt3184534\tvideoGame\tValiant Hearts: The Great War\tValiant Hearts: The Great War\t0\t2014\t\\N\t\\N\tAdventure,Drama,History\n",
      "tt31845341\ttvEpisode\tS8 Ep33\tS8 Ep33\t0\t2024\t\\N\t\\N\tTalk-Show\n"
     ]
    }
   ],
   "source": [
    "!sed -n '7605952,7605959p' imdb/title.basics.tsv"
   ]
  },
  {
   "cell_type": "code",
   "execution_count": 26,
   "metadata": {},
   "outputs": [
    {
     "data": {
      "text/html": [
       "<div>\n",
       "<style scoped>\n",
       "    .dataframe tbody tr th:only-of-type {\n",
       "        vertical-align: middle;\n",
       "    }\n",
       "\n",
       "    .dataframe tbody tr th {\n",
       "        vertical-align: top;\n",
       "    }\n",
       "\n",
       "    .dataframe thead th {\n",
       "        text-align: right;\n",
       "    }\n",
       "</style>\n",
       "<table border=\"1\" class=\"dataframe\">\n",
       "  <thead>\n",
       "    <tr style=\"text-align: right;\">\n",
       "      <th></th>\n",
       "      <th>tconst</th>\n",
       "      <th>titleType</th>\n",
       "      <th>primaryTitle</th>\n",
       "      <th>originalTitle</th>\n",
       "      <th>isAdult</th>\n",
       "      <th>startYear</th>\n",
       "      <th>endYear</th>\n",
       "      <th>runtimeMinutes</th>\n",
       "      <th>genres</th>\n",
       "    </tr>\n",
       "  </thead>\n",
       "  <tbody>\n",
       "    <tr>\n",
       "      <th>7605952</th>\n",
       "      <td>tt31845333</td>\n",
       "      <td>tvEpisode</td>\n",
       "      <td>Episode #1.21</td>\n",
       "      <td>Episode #1.21</td>\n",
       "      <td>0</td>\n",
       "      <td>1997</td>\n",
       "      <td>\\N</td>\n",
       "      <td>\\N</td>\n",
       "      <td>History,Romance</td>\n",
       "    </tr>\n",
       "    <tr>\n",
       "      <th>7605953</th>\n",
       "      <td>tt31845334</td>\n",
       "      <td>tvEpisode</td>\n",
       "      <td>\"Village of the Giants 65</td>\n",
       "      <td>\"Village of the Giants 65</td>\n",
       "      <td>0</td>\n",
       "      <td>2019</td>\n",
       "      <td>\\N</td>\n",
       "      <td>\\N</td>\n",
       "      <td>Comedy,Drama,Fantasy</td>\n",
       "    </tr>\n",
       "    <tr>\n",
       "      <th>7605954</th>\n",
       "      <td>tt31845335</td>\n",
       "      <td>tvEpisode</td>\n",
       "      <td>Episode #1.56</td>\n",
       "      <td>Episode #1.56</td>\n",
       "      <td>0</td>\n",
       "      <td>2024</td>\n",
       "      <td>\\N</td>\n",
       "      <td>\\N</td>\n",
       "      <td>Comedy,Drama,Family</td>\n",
       "    </tr>\n",
       "  </tbody>\n",
       "</table>\n",
       "</div>"
      ],
      "text/plain": [
       "             tconst  titleType               primaryTitle  \\\n",
       "7605952  tt31845333  tvEpisode              Episode #1.21   \n",
       "7605953  tt31845334  tvEpisode  \"Village of the Giants 65   \n",
       "7605954  tt31845335  tvEpisode              Episode #1.56   \n",
       "\n",
       "                     originalTitle  isAdult startYear endYear runtimeMinutes  \\\n",
       "7605952              Episode #1.21        0      1997      \\N             \\N   \n",
       "7605953  \"Village of the Giants 65        0      2019      \\N             \\N   \n",
       "7605954              Episode #1.56        0      2024      \\N             \\N   \n",
       "\n",
       "                       genres  \n",
       "7605952       History,Romance  \n",
       "7605953  Comedy,Drama,Fantasy  \n",
       "7605954   Comedy,Drama,Family  "
      ]
     },
     "execution_count": 26,
     "metadata": {},
     "output_type": "execute_result"
    }
   ],
   "source": [
    "tbasics.iloc[7605952:7605955]"
   ]
  },
  {
   "cell_type": "code",
   "execution_count": 15,
   "metadata": {},
   "outputs": [
    {
     "data": {
      "text/html": [
       "<div>\n",
       "<style scoped>\n",
       "    .dataframe tbody tr th:only-of-type {\n",
       "        vertical-align: middle;\n",
       "    }\n",
       "\n",
       "    .dataframe tbody tr th {\n",
       "        vertical-align: top;\n",
       "    }\n",
       "\n",
       "    .dataframe thead th {\n",
       "        text-align: right;\n",
       "    }\n",
       "</style>\n",
       "<table border=\"1\" class=\"dataframe\">\n",
       "  <thead>\n",
       "    <tr style=\"text-align: right;\">\n",
       "      <th></th>\n",
       "      <th>tconst</th>\n",
       "      <th>titleType</th>\n",
       "      <th>primaryTitle</th>\n",
       "      <th>originalTitle</th>\n",
       "      <th>isAdult</th>\n",
       "      <th>startYear</th>\n",
       "      <th>endYear</th>\n",
       "      <th>runtimeMinutes</th>\n",
       "      <th>genres</th>\n",
       "    </tr>\n",
       "  </thead>\n",
       "  <tbody>\n",
       "    <tr>\n",
       "      <th>7605953</th>\n",
       "      <td>tt31845334</td>\n",
       "      <td>tvEpisode</td>\n",
       "      <td>Village of the Giants 65\\tVillage of the Giant...</td>\n",
       "      <td>0</td>\n",
       "      <td>2019</td>\n",
       "      <td>\\N</td>\n",
       "      <td>\\N</td>\n",
       "      <td>Comedy,Drama,Fantasy</td>\n",
       "      <td>NaN</td>\n",
       "    </tr>\n",
       "    <tr>\n",
       "      <th>7904068</th>\n",
       "      <td>tt32779116</td>\n",
       "      <td>tvEpisode</td>\n",
       "      <td>Lost Planet Airmen\\tLost Planet Airmen</td>\n",
       "      <td>0</td>\n",
       "      <td>1974</td>\n",
       "      <td>\\N</td>\n",
       "      <td>\\N</td>\n",
       "      <td>Action,Adventure,Drama</td>\n",
       "      <td>NaN</td>\n",
       "    </tr>\n",
       "    <tr>\n",
       "      <th>7674820</th>\n",
       "      <td>tt32098928</td>\n",
       "      <td>tvEpisode</td>\n",
       "      <td>The Creation of the Humanoids\\tThe Creation of...</td>\n",
       "      <td>0</td>\n",
       "      <td>1973</td>\n",
       "      <td>\\N</td>\n",
       "      <td>\\N</td>\n",
       "      <td>Fantasy,Horror,Mystery</td>\n",
       "      <td>NaN</td>\n",
       "    </tr>\n",
       "    <tr>\n",
       "      <th>7771422</th>\n",
       "      <td>tt32377766</td>\n",
       "      <td>tvEpisode</td>\n",
       "      <td>Zontar the Thing from Venus'\\tZontar the Thing...</td>\n",
       "      <td>0</td>\n",
       "      <td>1980</td>\n",
       "      <td>\\N</td>\n",
       "      <td>\\N</td>\n",
       "      <td>Action,Horror,Mystery</td>\n",
       "      <td>NaN</td>\n",
       "    </tr>\n",
       "    <tr>\n",
       "      <th>7966053</th>\n",
       "      <td>tt33022175</td>\n",
       "      <td>tvEpisode</td>\n",
       "      <td>Track of the Vampire\\tTrack of the Vampire</td>\n",
       "      <td>0</td>\n",
       "      <td>1985</td>\n",
       "      <td>\\N</td>\n",
       "      <td>\\N</td>\n",
       "      <td>Fantasy,Horror,Mystery</td>\n",
       "      <td>NaN</td>\n",
       "    </tr>\n",
       "    <tr>\n",
       "      <th>7677078</th>\n",
       "      <td>tt32105765</td>\n",
       "      <td>tvEpisode</td>\n",
       "      <td>Voyage to the End of the Universe'\\tVoyage to ...</td>\n",
       "      <td>0</td>\n",
       "      <td>1974</td>\n",
       "      <td>\\N</td>\n",
       "      <td>\\N</td>\n",
       "      <td>Fantasy,Horror,Mystery</td>\n",
       "      <td>NaN</td>\n",
       "    </tr>\n",
       "    <tr>\n",
       "      <th>7913944</th>\n",
       "      <td>tt32820699</td>\n",
       "      <td>tvEpisode</td>\n",
       "      <td>The Mole People\\tThe Mole People</td>\n",
       "      <td>0</td>\n",
       "      <td>1977</td>\n",
       "      <td>\\N</td>\n",
       "      <td>\\N</td>\n",
       "      <td>Action,Adventure,Drama</td>\n",
       "      <td>NaN</td>\n",
       "    </tr>\n",
       "    <tr>\n",
       "      <th>7907353</th>\n",
       "      <td>tt32799017</td>\n",
       "      <td>tvEpisode</td>\n",
       "      <td>Lost Planet Airmen'\\tLost Planet Airmen'</td>\n",
       "      <td>0</td>\n",
       "      <td>1975</td>\n",
       "      <td>\\N</td>\n",
       "      <td>\\N</td>\n",
       "      <td>Action,Adventure,Drama</td>\n",
       "      <td>NaN</td>\n",
       "    </tr>\n",
       "    <tr>\n",
       "      <th>7622004</th>\n",
       "      <td>tt31911836</td>\n",
       "      <td>tvEpisode</td>\n",
       "      <td>The Black Cat' 41\\tThe Black Cat' 41</td>\n",
       "      <td>0</td>\n",
       "      <td>1983</td>\n",
       "      <td>\\N</td>\n",
       "      <td>\\N</td>\n",
       "      <td>Fantasy,Horror,Mystery</td>\n",
       "      <td>NaN</td>\n",
       "    </tr>\n",
       "    <tr>\n",
       "      <th>7857241</th>\n",
       "      <td>tt32628047</td>\n",
       "      <td>tvEpisode</td>\n",
       "      <td>Frankenstein 1931\\tFrankenstein 1931</td>\n",
       "      <td>0</td>\n",
       "      <td>1973</td>\n",
       "      <td>\\N</td>\n",
       "      <td>\\N</td>\n",
       "      <td>Comedy,Drama,Horror</td>\n",
       "      <td>NaN</td>\n",
       "    </tr>\n",
       "    <tr>\n",
       "      <th>7771433</th>\n",
       "      <td>tt32377790</td>\n",
       "      <td>tvEpisode</td>\n",
       "      <td>The Atomic Brain'\\tThe Atomic Brain'</td>\n",
       "      <td>0</td>\n",
       "      <td>1980</td>\n",
       "      <td>\\N</td>\n",
       "      <td>\\N</td>\n",
       "      <td>Action,Horror,Mystery</td>\n",
       "      <td>NaN</td>\n",
       "    </tr>\n",
       "    <tr>\n",
       "      <th>7639543</th>\n",
       "      <td>tt31969239</td>\n",
       "      <td>tvEpisode</td>\n",
       "      <td>Creature from the Black Lagoon\\tCreature from ...</td>\n",
       "      <td>0</td>\n",
       "      <td>1978</td>\n",
       "      <td>\\N</td>\n",
       "      <td>\\N</td>\n",
       "      <td>Fantasy,Horror,Mystery</td>\n",
       "      <td>NaN</td>\n",
       "    </tr>\n",
       "    <tr>\n",
       "      <th>7674136</th>\n",
       "      <td>tt32097858</td>\n",
       "      <td>tvEpisode</td>\n",
       "      <td>Godzilla vs the Thing\\tGodzilla vs the Thing</td>\n",
       "      <td>0</td>\n",
       "      <td>1972</td>\n",
       "      <td>\\N</td>\n",
       "      <td>\\N</td>\n",
       "      <td>Fantasy,Horror,Mystery</td>\n",
       "      <td>NaN</td>\n",
       "    </tr>\n",
       "    <tr>\n",
       "      <th>7676423</th>\n",
       "      <td>tt32104747</td>\n",
       "      <td>tvEpisode</td>\n",
       "      <td>4D Man\\t4D Man</td>\n",
       "      <td>0</td>\n",
       "      <td>1974</td>\n",
       "      <td>\\N</td>\n",
       "      <td>\\N</td>\n",
       "      <td>Fantasy,Horror,Mystery</td>\n",
       "      <td>NaN</td>\n",
       "    </tr>\n",
       "    <tr>\n",
       "      <th>7907453</th>\n",
       "      <td>tt32799139</td>\n",
       "      <td>tvEpisode</td>\n",
       "      <td>Two Lost Worlds\\tTwo Lost Worlds</td>\n",
       "      <td>0</td>\n",
       "      <td>1975</td>\n",
       "      <td>\\N</td>\n",
       "      <td>\\N</td>\n",
       "      <td>Action,Adventure,Drama</td>\n",
       "      <td>NaN</td>\n",
       "    </tr>\n",
       "    <tr>\n",
       "      <th>7762626</th>\n",
       "      <td>tt32351176</td>\n",
       "      <td>tvEpisode</td>\n",
       "      <td>The Flying Serpent\\tThe Flying Serpent</td>\n",
       "      <td>0</td>\n",
       "      <td>1978</td>\n",
       "      <td>\\N</td>\n",
       "      <td>\\N</td>\n",
       "      <td>Action,Horror,Mystery</td>\n",
       "      <td>NaN</td>\n",
       "    </tr>\n",
       "    <tr>\n",
       "      <th>7754385</th>\n",
       "      <td>tt32330415</td>\n",
       "      <td>tvEpisode</td>\n",
       "      <td>The Terror\\tThe Terror</td>\n",
       "      <td>0</td>\n",
       "      <td>1976</td>\n",
       "      <td>\\N</td>\n",
       "      <td>\\N</td>\n",
       "      <td>Action,Fantasy,Horror</td>\n",
       "      <td>NaN</td>\n",
       "    </tr>\n",
       "    <tr>\n",
       "      <th>7768674</th>\n",
       "      <td>tt32370302</td>\n",
       "      <td>tvEpisode</td>\n",
       "      <td>Conquest of Space\\tConquest of Space</td>\n",
       "      <td>0</td>\n",
       "      <td>1981</td>\n",
       "      <td>\\N</td>\n",
       "      <td>\\N</td>\n",
       "      <td>Action,Horror,Mystery</td>\n",
       "      <td>NaN</td>\n",
       "    </tr>\n",
       "    <tr>\n",
       "      <th>7604692</th>\n",
       "      <td>tt31842843</td>\n",
       "      <td>tvEpisode</td>\n",
       "      <td>Bride of Frankenstein 35\\tBride of Frankenstei...</td>\n",
       "      <td>0</td>\n",
       "      <td>2017</td>\n",
       "      <td>\\N</td>\n",
       "      <td>\\N</td>\n",
       "      <td>Comedy,Drama,Fantasy</td>\n",
       "      <td>NaN</td>\n",
       "    </tr>\n",
       "    <tr>\n",
       "      <th>7604404</th>\n",
       "      <td>tt31842279</td>\n",
       "      <td>tvEpisode</td>\n",
       "      <td>She-Wolf of London\\tShe-Wolf of London</td>\n",
       "      <td>0</td>\n",
       "      <td>2016</td>\n",
       "      <td>\\N</td>\n",
       "      <td>\\N</td>\n",
       "      <td>Comedy,Drama,Fantasy</td>\n",
       "      <td>NaN</td>\n",
       "    </tr>\n",
       "  </tbody>\n",
       "</table>\n",
       "</div>"
      ],
      "text/plain": [
       "             tconst  titleType  \\\n",
       "7605953  tt31845334  tvEpisode   \n",
       "7904068  tt32779116  tvEpisode   \n",
       "7674820  tt32098928  tvEpisode   \n",
       "7771422  tt32377766  tvEpisode   \n",
       "7966053  tt33022175  tvEpisode   \n",
       "7677078  tt32105765  tvEpisode   \n",
       "7913944  tt32820699  tvEpisode   \n",
       "7907353  tt32799017  tvEpisode   \n",
       "7622004  tt31911836  tvEpisode   \n",
       "7857241  tt32628047  tvEpisode   \n",
       "7771433  tt32377790  tvEpisode   \n",
       "7639543  tt31969239  tvEpisode   \n",
       "7674136  tt32097858  tvEpisode   \n",
       "7676423  tt32104747  tvEpisode   \n",
       "7907453  tt32799139  tvEpisode   \n",
       "7762626  tt32351176  tvEpisode   \n",
       "7754385  tt32330415  tvEpisode   \n",
       "7768674  tt32370302  tvEpisode   \n",
       "7604692  tt31842843  tvEpisode   \n",
       "7604404  tt31842279  tvEpisode   \n",
       "\n",
       "                                              primaryTitle originalTitle  \\\n",
       "7605953  Village of the Giants 65\\tVillage of the Giant...             0   \n",
       "7904068             Lost Planet Airmen\\tLost Planet Airmen             0   \n",
       "7674820  The Creation of the Humanoids\\tThe Creation of...             0   \n",
       "7771422  Zontar the Thing from Venus'\\tZontar the Thing...             0   \n",
       "7966053         Track of the Vampire\\tTrack of the Vampire             0   \n",
       "7677078  Voyage to the End of the Universe'\\tVoyage to ...             0   \n",
       "7913944                   The Mole People\\tThe Mole People             0   \n",
       "7907353           Lost Planet Airmen'\\tLost Planet Airmen'             0   \n",
       "7622004               The Black Cat' 41\\tThe Black Cat' 41             0   \n",
       "7857241               Frankenstein 1931\\tFrankenstein 1931             0   \n",
       "7771433               The Atomic Brain'\\tThe Atomic Brain'             0   \n",
       "7639543  Creature from the Black Lagoon\\tCreature from ...             0   \n",
       "7674136       Godzilla vs the Thing\\tGodzilla vs the Thing             0   \n",
       "7676423                                     4D Man\\t4D Man             0   \n",
       "7907453                   Two Lost Worlds\\tTwo Lost Worlds             0   \n",
       "7762626             The Flying Serpent\\tThe Flying Serpent             0   \n",
       "7754385                             The Terror\\tThe Terror             0   \n",
       "7768674               Conquest of Space\\tConquest of Space             0   \n",
       "7604692  Bride of Frankenstein 35\\tBride of Frankenstei...             0   \n",
       "7604404             She-Wolf of London\\tShe-Wolf of London             0   \n",
       "\n",
       "        isAdult startYear endYear          runtimeMinutes genres  \n",
       "7605953    2019        \\N      \\N    Comedy,Drama,Fantasy    NaN  \n",
       "7904068    1974        \\N      \\N  Action,Adventure,Drama    NaN  \n",
       "7674820    1973        \\N      \\N  Fantasy,Horror,Mystery    NaN  \n",
       "7771422    1980        \\N      \\N   Action,Horror,Mystery    NaN  \n",
       "7966053    1985        \\N      \\N  Fantasy,Horror,Mystery    NaN  \n",
       "7677078    1974        \\N      \\N  Fantasy,Horror,Mystery    NaN  \n",
       "7913944    1977        \\N      \\N  Action,Adventure,Drama    NaN  \n",
       "7907353    1975        \\N      \\N  Action,Adventure,Drama    NaN  \n",
       "7622004    1983        \\N      \\N  Fantasy,Horror,Mystery    NaN  \n",
       "7857241    1973        \\N      \\N     Comedy,Drama,Horror    NaN  \n",
       "7771433    1980        \\N      \\N   Action,Horror,Mystery    NaN  \n",
       "7639543    1978        \\N      \\N  Fantasy,Horror,Mystery    NaN  \n",
       "7674136    1972        \\N      \\N  Fantasy,Horror,Mystery    NaN  \n",
       "7676423    1974        \\N      \\N  Fantasy,Horror,Mystery    NaN  \n",
       "7907453    1975        \\N      \\N  Action,Adventure,Drama    NaN  \n",
       "7762626    1978        \\N      \\N   Action,Horror,Mystery    NaN  \n",
       "7754385    1976        \\N      \\N   Action,Fantasy,Horror    NaN  \n",
       "7768674    1981        \\N      \\N   Action,Horror,Mystery    NaN  \n",
       "7604692    2017        \\N      \\N    Comedy,Drama,Fantasy    NaN  \n",
       "7604404    2016        \\N      \\N    Comedy,Drama,Fantasy    NaN  "
      ]
     },
     "execution_count": 15,
     "metadata": {},
     "output_type": "execute_result"
    }
   ],
   "source": [
    "tbasics[~tbasics.isAdult.isin([0,1,'0','1'])].sample(20)"
   ]
  },
  {
   "cell_type": "code",
   "execution_count": 8,
   "metadata": {},
   "outputs": [
    {
     "data": {
      "text/plain": [
       "isAdult\n",
       "0       10846635\n",
       "1         360144\n",
       "0          63527\n",
       "1           2008\n",
       "1985          79\n",
       "1980          63\n",
       "1978          54\n",
       "1984          41\n",
       "1982          32\n",
       "1974          32\n",
       "1972          29\n",
       "2015          28\n",
       "1983          25\n",
       "2016          21\n",
       "1977          20\n",
       "1973          18\n",
       "1976          18\n",
       "1975          18\n",
       "1981          18\n",
       "2017          17\n",
       "1986          17\n",
       "1979          13\n",
       "1987          13\n",
       "2018           9\n",
       "2020           9\n",
       "2013           8\n",
       "2019           7\n",
       "2023           7\n",
       "2014           6\n",
       "1988           5\n",
       "1966           5\n",
       "2024           4\n",
       "1968           3\n",
       "1970           2\n",
       "2022           2\n",
       "1971           2\n",
       "2011           1\n",
       "\\N             1\n",
       "2012           1\n",
       "2021           1\n",
       "1969           1\n",
       "1964           1\n",
       "1967           1\n",
       "2005           1\n",
       "Name: count, dtype: int64"
      ]
     },
     "execution_count": 8,
     "metadata": {},
     "output_type": "execute_result"
    }
   ],
   "source": [
    "title_basics_df.isAdult.value_counts()"
   ]
  },
  {
   "cell_type": "code",
   "execution_count": 7,
   "metadata": {},
   "outputs": [
    {
     "data": {
      "text/plain": [
       "isAdult\n",
       "0       10846635\n",
       "1         360144\n",
       "1964           1\n",
       "1966           5\n",
       "1967           1\n",
       "1968           3\n",
       "1969           1\n",
       "1970           2\n",
       "1971           2\n",
       "1972          29\n",
       "1973          18\n",
       "1974          32\n",
       "1975          18\n",
       "1976          18\n",
       "1977          20\n",
       "1978          54\n",
       "1979          13\n",
       "1980          63\n",
       "1981          18\n",
       "1982          32\n",
       "1983          25\n",
       "1984          41\n",
       "1985          79\n",
       "1986          17\n",
       "1987          13\n",
       "1988           5\n",
       "2005           1\n",
       "2011           1\n",
       "2012           1\n",
       "2013           8\n",
       "2014           6\n",
       "2015          28\n",
       "2016          21\n",
       "2017          17\n",
       "2018           9\n",
       "2019           7\n",
       "2020           9\n",
       "2021           1\n",
       "2022           2\n",
       "2023           7\n",
       "2024           4\n",
       "0          63527\n",
       "1           2008\n",
       "\\N             1\n",
       "dtype: int64"
      ]
     },
     "execution_count": 7,
     "metadata": {},
     "output_type": "execute_result"
    }
   ],
   "source": [
    "title_basics_df.groupby('isAdult').size()"
   ]
  },
  {
   "cell_type": "code",
   "execution_count": null,
   "metadata": {},
   "outputs": [],
   "source": []
  },
  {
   "cell_type": "markdown",
   "metadata": {},
   "source": [
    "# on name basics"
   ]
  },
  {
   "cell_type": "code",
   "execution_count": 41,
   "metadata": {},
   "outputs": [],
   "source": [
    "nbasics = pd.read_csv('imdb/name.basics.tsv', sep='\\t', quoting=csv.QUOTE_NONE, na_values='\\\\N')"
   ]
  },
  {
   "cell_type": "code",
   "execution_count": 42,
   "metadata": {},
   "outputs": [
    {
     "name": "stdout",
     "output_type": "stream",
     "text": [
      "<class 'pandas.core.frame.DataFrame'>\n",
      "RangeIndex: 13986297 entries, 0 to 13986296\n",
      "Data columns (total 6 columns):\n",
      " #   Column             Non-Null Count     Dtype  \n",
      "---  ------             --------------     -----  \n",
      " 0   nconst             13986297 non-null  object \n",
      " 1   primaryName        13986238 non-null  object \n",
      " 2   birthYear          632420 non-null    float64\n",
      " 3   deathYear          237124 non-null    float64\n",
      " 4   primaryProfession  11272084 non-null  object \n",
      " 5   knownForTitles     12404993 non-null  object \n",
      "dtypes: float64(2), object(4)\n",
      "memory usage: 640.2+ MB\n"
     ]
    }
   ],
   "source": [
    "nbasics.info(verbose=True, show_counts=True)"
   ]
  },
  {
   "cell_type": "code",
   "execution_count": 43,
   "metadata": {},
   "outputs": [
    {
     "data": {
      "text/plain": [
       "(13353877, 6)"
      ]
     },
     "execution_count": 43,
     "metadata": {},
     "output_type": "execute_result"
    },
    {
     "ename": "",
     "evalue": "",
     "output_type": "error",
     "traceback": [
      "\u001b[1;31mThe Kernel crashed while executing code in the current cell or a previous cell. \n",
      "\u001b[1;31mPlease review the code in the cell(s) to identify a possible cause of the failure. \n",
      "\u001b[1;31mClick <a href='https://aka.ms/vscodeJupyterKernelCrash'>here</a> for more info. \n",
      "\u001b[1;31mView Jupyter <a href='command:jupyter.viewOutput'>log</a> for further details."
     ]
    }
   ],
   "source": [
    "nbasics[nbasics.birthYear.isnull()].shape"
   ]
  },
  {
   "cell_type": "code",
   "execution_count": null,
   "metadata": {},
   "outputs": [],
   "source": []
  },
  {
   "cell_type": "markdown",
   "metadata": {},
   "source": [
    "# title akas"
   ]
  },
  {
   "cell_type": "code",
   "execution_count": null,
   "metadata": {},
   "outputs": [],
   "source": [
    "# ['types'].unique() -> has '\\x02' separators\n",
    "# separator=bytearray.fromhex(\"02\").decode('utf-8')\n",
    "# null_corrected_df['correct_types'] = null_corrected_df['types'].str.replace(separator,\";\").str.split(\";\")\n",
    "\n",
    "# separator=bytearray.fromhex(\"02\").decode('utf-8')\n",
    "# null_corrected_df['correct_attributes'] = null_corrected_df['attributes'].str.replace(separator,\";\").str.split(\";\")"
   ]
  },
  {
   "cell_type": "code",
   "execution_count": null,
   "metadata": {},
   "outputs": [],
   "source": []
  },
  {
   "cell_type": "code",
   "execution_count": 5,
   "metadata": {},
   "outputs": [
    {
     "name": "stdout",
     "output_type": "stream",
     "text": [
      "total 1106884\n",
      "drwxr-xr-x  4 lean lean      4096 Dec  1 04:22 .\n",
      "drwxr-x--- 13 lean lean      4096 Nov 30 13:25 ..\n",
      "drwxr-xr-x  4 lean lean      4096 Nov 30 11:36 MoviesRecommendedByLean\n",
      "-rw-r--r--  1 lean lean 214322450 Sep 20  2019 genome_scores.csv\n",
      "-rw-r--r--  1 lean lean     20363 Sep 20  2019 genome_tags.csv\n",
      "drwxr-xr-x 12 lean lean      4096 Dec  1 04:22 imdb_dataset_article\n",
      "-rw-r--r--  1 lean lean    539334 Sep 20  2019 link.csv\n",
      "-rw-r--r--  1 lean lean   1493648 Sep 20  2019 movie.csv\n",
      "-rw-r--r--  1 lean lean 204953792 Nov 29 20:46 movielens-20m-dataset.zip\n",
      "-rw-r--r--  1 lean lean       291 Nov 29 20:45 movies.ipynb\n",
      "-rw-r--r--  1 lean lean 690353377 Sep 20  2019 rating.csv\n",
      "-rw-r--r--  1 lean lean  21725514 Sep 20  2019 tag.csv\n"
     ]
    }
   ],
   "source": [
    "!ls -la .."
   ]
  },
  {
   "cell_type": "markdown",
   "metadata": {},
   "source": [
    "# Trying DuckDB"
   ]
  },
  {
   "cell_type": "code",
   "execution_count": 2,
   "metadata": {},
   "outputs": [],
   "source": [
    "import pandas as pd\n",
    "import duckdb \n",
    "import os\n",
    "import csv \n",
    "import gc\n",
    "from tqdm.notebook import tqdm\n",
    "from ydata_profiling import ProfileReport\n",
    "\n",
    "\n",
    "db = duckdb.connect(database='imdb.duckdb') "
   ]
  },
  {
   "cell_type": "code",
   "execution_count": 3,
   "metadata": {},
   "outputs": [
    {
     "data": {
      "text/html": [
       "<div>\n",
       "<style scoped>\n",
       "    .dataframe tbody tr th:only-of-type {\n",
       "        vertical-align: middle;\n",
       "    }\n",
       "\n",
       "    .dataframe tbody tr th {\n",
       "        vertical-align: top;\n",
       "    }\n",
       "\n",
       "    .dataframe thead th {\n",
       "        text-align: right;\n",
       "    }\n",
       "</style>\n",
       "<table border=\"1\" class=\"dataframe\">\n",
       "  <thead>\n",
       "    <tr style=\"text-align: right;\">\n",
       "      <th></th>\n",
       "      <th>name</th>\n",
       "    </tr>\n",
       "  </thead>\n",
       "  <tbody>\n",
       "    <tr>\n",
       "      <th>0</th>\n",
       "      <td>name_basics_raw</td>\n",
       "    </tr>\n",
       "    <tr>\n",
       "      <th>1</th>\n",
       "      <td>title_akas_raw</td>\n",
       "    </tr>\n",
       "    <tr>\n",
       "      <th>2</th>\n",
       "      <td>title_basics_raw</td>\n",
       "    </tr>\n",
       "    <tr>\n",
       "      <th>3</th>\n",
       "      <td>title_crew_raw</td>\n",
       "    </tr>\n",
       "    <tr>\n",
       "      <th>4</th>\n",
       "      <td>title_episode_raw</td>\n",
       "    </tr>\n",
       "    <tr>\n",
       "      <th>5</th>\n",
       "      <td>title_principals_raw</td>\n",
       "    </tr>\n",
       "    <tr>\n",
       "      <th>6</th>\n",
       "      <td>title_ratings_raw</td>\n",
       "    </tr>\n",
       "  </tbody>\n",
       "</table>\n",
       "</div>"
      ],
      "text/plain": [
       "                   name\n",
       "0       name_basics_raw\n",
       "1        title_akas_raw\n",
       "2      title_basics_raw\n",
       "3        title_crew_raw\n",
       "4     title_episode_raw\n",
       "5  title_principals_raw\n",
       "6     title_ratings_raw"
      ]
     },
     "execution_count": 3,
     "metadata": {},
     "output_type": "execute_result"
    }
   ],
   "source": [
    "db.execute(\"SHOW TABLES\").fetch_df() "
   ]
  },
  {
   "cell_type": "code",
   "execution_count": 6,
   "metadata": {},
   "outputs": [
    {
     "data": {
      "text/html": [
       "<div>\n",
       "<style scoped>\n",
       "    .dataframe tbody tr th:only-of-type {\n",
       "        vertical-align: middle;\n",
       "    }\n",
       "\n",
       "    .dataframe tbody tr th {\n",
       "        vertical-align: top;\n",
       "    }\n",
       "\n",
       "    .dataframe thead th {\n",
       "        text-align: right;\n",
       "    }\n",
       "</style>\n",
       "<table border=\"1\" class=\"dataframe\">\n",
       "  <thead>\n",
       "    <tr style=\"text-align: right;\">\n",
       "      <th></th>\n",
       "      <th>count_star()</th>\n",
       "    </tr>\n",
       "  </thead>\n",
       "  <tbody>\n",
       "    <tr>\n",
       "      <th>0</th>\n",
       "      <td>13986297</td>\n",
       "    </tr>\n",
       "  </tbody>\n",
       "</table>\n",
       "</div>"
      ],
      "text/plain": [
       "   count_star()\n",
       "0      13986297"
      ]
     },
     "execution_count": 6,
     "metadata": {},
     "output_type": "execute_result"
    }
   ],
   "source": [
    "db.execute(\"select count(*) from name_basics_raw\").fetch_df()"
   ]
  },
  {
   "cell_type": "code",
   "execution_count": 4,
   "metadata": {},
   "outputs": [
    {
     "data": {
      "text/html": [
       "<div>\n",
       "<style scoped>\n",
       "    .dataframe tbody tr th:only-of-type {\n",
       "        vertical-align: middle;\n",
       "    }\n",
       "\n",
       "    .dataframe tbody tr th {\n",
       "        vertical-align: top;\n",
       "    }\n",
       "\n",
       "    .dataframe thead th {\n",
       "        text-align: right;\n",
       "    }\n",
       "</style>\n",
       "<table border=\"1\" class=\"dataframe\">\n",
       "  <thead>\n",
       "    <tr style=\"text-align: right;\">\n",
       "      <th></th>\n",
       "      <th>tconst</th>\n",
       "      <th>titleType</th>\n",
       "      <th>primaryTitle</th>\n",
       "      <th>originalTitle</th>\n",
       "      <th>isAdult</th>\n",
       "      <th>startYear</th>\n",
       "      <th>endYear</th>\n",
       "      <th>runtimeMinutes</th>\n",
       "      <th>genres</th>\n",
       "    </tr>\n",
       "  </thead>\n",
       "  <tbody>\n",
       "    <tr>\n",
       "      <th>0</th>\n",
       "      <td>tt0000001</td>\n",
       "      <td>short</td>\n",
       "      <td>Carmencita</td>\n",
       "      <td>Carmencita</td>\n",
       "      <td>0</td>\n",
       "      <td>1894.0</td>\n",
       "      <td>NaN</td>\n",
       "      <td>1.0</td>\n",
       "      <td>Documentary,Short</td>\n",
       "    </tr>\n",
       "    <tr>\n",
       "      <th>1</th>\n",
       "      <td>tt0000002</td>\n",
       "      <td>short</td>\n",
       "      <td>Le clown et ses chiens</td>\n",
       "      <td>Le clown et ses chiens</td>\n",
       "      <td>0</td>\n",
       "      <td>1892.0</td>\n",
       "      <td>NaN</td>\n",
       "      <td>5.0</td>\n",
       "      <td>Animation,Short</td>\n",
       "    </tr>\n",
       "    <tr>\n",
       "      <th>2</th>\n",
       "      <td>tt0000003</td>\n",
       "      <td>short</td>\n",
       "      <td>Poor Pierrot</td>\n",
       "      <td>Pauvre Pierrot</td>\n",
       "      <td>0</td>\n",
       "      <td>1892.0</td>\n",
       "      <td>NaN</td>\n",
       "      <td>5.0</td>\n",
       "      <td>Animation,Comedy,Romance</td>\n",
       "    </tr>\n",
       "    <tr>\n",
       "      <th>3</th>\n",
       "      <td>tt0000004</td>\n",
       "      <td>short</td>\n",
       "      <td>Un bon bock</td>\n",
       "      <td>Un bon bock</td>\n",
       "      <td>0</td>\n",
       "      <td>1892.0</td>\n",
       "      <td>NaN</td>\n",
       "      <td>12.0</td>\n",
       "      <td>Animation,Short</td>\n",
       "    </tr>\n",
       "    <tr>\n",
       "      <th>4</th>\n",
       "      <td>tt0000005</td>\n",
       "      <td>short</td>\n",
       "      <td>Blacksmith Scene</td>\n",
       "      <td>Blacksmith Scene</td>\n",
       "      <td>0</td>\n",
       "      <td>1893.0</td>\n",
       "      <td>NaN</td>\n",
       "      <td>1.0</td>\n",
       "      <td>Comedy,Short</td>\n",
       "    </tr>\n",
       "    <tr>\n",
       "      <th>5</th>\n",
       "      <td>tt0000006</td>\n",
       "      <td>short</td>\n",
       "      <td>Chinese Opium Den</td>\n",
       "      <td>Chinese Opium Den</td>\n",
       "      <td>0</td>\n",
       "      <td>1894.0</td>\n",
       "      <td>NaN</td>\n",
       "      <td>1.0</td>\n",
       "      <td>Short</td>\n",
       "    </tr>\n",
       "    <tr>\n",
       "      <th>6</th>\n",
       "      <td>tt0000007</td>\n",
       "      <td>short</td>\n",
       "      <td>Corbett and Courtney Before the Kinetograph</td>\n",
       "      <td>Corbett and Courtney Before the Kinetograph</td>\n",
       "      <td>0</td>\n",
       "      <td>1894.0</td>\n",
       "      <td>NaN</td>\n",
       "      <td>1.0</td>\n",
       "      <td>Short,Sport</td>\n",
       "    </tr>\n",
       "    <tr>\n",
       "      <th>7</th>\n",
       "      <td>tt0000008</td>\n",
       "      <td>short</td>\n",
       "      <td>Edison Kinetoscopic Record of a Sneeze</td>\n",
       "      <td>Edison Kinetoscopic Record of a Sneeze</td>\n",
       "      <td>0</td>\n",
       "      <td>1894.0</td>\n",
       "      <td>NaN</td>\n",
       "      <td>1.0</td>\n",
       "      <td>Documentary,Short</td>\n",
       "    </tr>\n",
       "    <tr>\n",
       "      <th>8</th>\n",
       "      <td>tt0000009</td>\n",
       "      <td>movie</td>\n",
       "      <td>Miss Jerry</td>\n",
       "      <td>Miss Jerry</td>\n",
       "      <td>0</td>\n",
       "      <td>1894.0</td>\n",
       "      <td>NaN</td>\n",
       "      <td>45.0</td>\n",
       "      <td>Romance</td>\n",
       "    </tr>\n",
       "    <tr>\n",
       "      <th>9</th>\n",
       "      <td>tt0000010</td>\n",
       "      <td>short</td>\n",
       "      <td>Leaving the Factory</td>\n",
       "      <td>La sortie de l'usine Lumière à Lyon</td>\n",
       "      <td>0</td>\n",
       "      <td>1895.0</td>\n",
       "      <td>NaN</td>\n",
       "      <td>1.0</td>\n",
       "      <td>Documentary,Short</td>\n",
       "    </tr>\n",
       "  </tbody>\n",
       "</table>\n",
       "</div>"
      ],
      "text/plain": [
       "      tconst titleType                                 primaryTitle  \\\n",
       "0  tt0000001     short                                   Carmencita   \n",
       "1  tt0000002     short                       Le clown et ses chiens   \n",
       "2  tt0000003     short                                 Poor Pierrot   \n",
       "3  tt0000004     short                                  Un bon bock   \n",
       "4  tt0000005     short                             Blacksmith Scene   \n",
       "5  tt0000006     short                            Chinese Opium Den   \n",
       "6  tt0000007     short  Corbett and Courtney Before the Kinetograph   \n",
       "7  tt0000008     short       Edison Kinetoscopic Record of a Sneeze   \n",
       "8  tt0000009     movie                                   Miss Jerry   \n",
       "9  tt0000010     short                          Leaving the Factory   \n",
       "\n",
       "                                 originalTitle  isAdult  startYear  endYear  \\\n",
       "0                                   Carmencita        0     1894.0      NaN   \n",
       "1                       Le clown et ses chiens        0     1892.0      NaN   \n",
       "2                               Pauvre Pierrot        0     1892.0      NaN   \n",
       "3                                  Un bon bock        0     1892.0      NaN   \n",
       "4                             Blacksmith Scene        0     1893.0      NaN   \n",
       "5                            Chinese Opium Den        0     1894.0      NaN   \n",
       "6  Corbett and Courtney Before the Kinetograph        0     1894.0      NaN   \n",
       "7       Edison Kinetoscopic Record of a Sneeze        0     1894.0      NaN   \n",
       "8                                   Miss Jerry        0     1894.0      NaN   \n",
       "9          La sortie de l'usine Lumière à Lyon        0     1895.0      NaN   \n",
       "\n",
       "   runtimeMinutes                    genres  \n",
       "0             1.0         Documentary,Short  \n",
       "1             5.0           Animation,Short  \n",
       "2             5.0  Animation,Comedy,Romance  \n",
       "3            12.0           Animation,Short  \n",
       "4             1.0              Comedy,Short  \n",
       "5             1.0                     Short  \n",
       "6             1.0               Short,Sport  \n",
       "7             1.0         Documentary,Short  \n",
       "8            45.0                   Romance  \n",
       "9             1.0         Documentary,Short  "
      ]
     },
     "execution_count": 4,
     "metadata": {},
     "output_type": "execute_result"
    }
   ],
   "source": [
    "db.execute(\"SELECT * FROM title_basics_raw LIMIT 10;\").fetch_df()"
   ]
  },
  {
   "cell_type": "code",
   "execution_count": 4,
   "metadata": {},
   "outputs": [],
   "source": [
    "MAX_ROWS = 10_000_000 "
   ]
  },
  {
   "cell_type": "code",
   "execution_count": null,
   "metadata": {},
   "outputs": [],
   "source": [
    "!mkdir -p profiling"
   ]
  },
  {
   "cell_type": "code",
   "execution_count": null,
   "metadata": {},
   "outputs": [
    {
     "data": {
      "application/vnd.jupyter.widget-view+json": {
       "model_id": "f25a834c08cd49929b2f22de8838be3b",
       "version_major": 2,
       "version_minor": 0
      },
      "text/plain": [
       "Summarize dataset:   0%|          | 0/5 [00:00<?, ?it/s]"
      ]
     },
     "metadata": {},
     "output_type": "display_data"
    },
    {
     "data": {
      "application/vnd.jupyter.widget-view+json": {
       "model_id": "44e86fbe72564c5d8a3307e7b0b69c07",
       "version_major": 2,
       "version_minor": 0
      },
      "text/plain": [
       "Generate report structure:   0%|          | 0/1 [00:00<?, ?it/s]"
      ]
     },
     "metadata": {},
     "output_type": "display_data"
    },
    {
     "data": {
      "application/vnd.jupyter.widget-view+json": {
       "model_id": "6f979b3e272f40eebc1c69aca3ee494f",
       "version_major": 2,
       "version_minor": 0
      },
      "text/plain": [
       "Render HTML:   0%|          | 0/1 [00:00<?, ?it/s]"
      ]
     },
     "metadata": {},
     "output_type": "display_data"
    },
    {
     "data": {
      "application/vnd.jupyter.widget-view+json": {
       "model_id": "d1f3b440316845aba52ed4878ea4993e",
       "version_major": 2,
       "version_minor": 0
      },
      "text/plain": [
       "Export report to file:   0%|          | 0/1 [00:00<?, ?it/s]"
      ]
     },
     "metadata": {},
     "output_type": "display_data"
    },
    {
     "data": {
      "application/vnd.jupyter.widget-view+json": {
       "model_id": "145c30f1a70647f7af4576b822170d80",
       "version_major": 2,
       "version_minor": 0
      },
      "text/plain": [
       "FloatProgress(value=0.0, layout=Layout(width='auto'), style=ProgressStyle(bar_color='black'))"
      ]
     },
     "metadata": {},
     "output_type": "display_data"
    },
    {
     "data": {
      "application/vnd.jupyter.widget-view+json": {
       "model_id": "edf69d4f2de647bfaa1c0627c2dca495",
       "version_major": 2,
       "version_minor": 0
      },
      "text/plain": [
       "Summarize dataset:   0%|          | 0/5 [00:00<?, ?it/s]"
      ]
     },
     "metadata": {},
     "output_type": "display_data"
    }
   ],
   "source": [
    "filenames = os.listdir('imdb')\n",
    "tablenames = [f.replace('.','_') for f in filenames]\n",
    "tablenames = [f.replace('_tsv','_raw') for f in tablenames]\n",
    "\n",
    "for tablename in tablenames:\n",
    "    size = db.execute(f\"SELECT count(*) FROM {tablename}\").fetch_df().values[0][0]\n",
    "    if size > MAX_ROWS:\n",
    "        sampledf = db.execute(f\"\"\"SELECT * FROM {tablename} USING \n",
    "                                  SAMPLE {MAX_ROWS} ROWS;\"\"\").fetch_df()\n",
    "        profile = ProfileReport(sampledf, minimal=True, explorative=True)\n",
    "    else:\n",
    "        sampledf = db.execute(f\"SELECT * FROM {tablename};\").fetch_df()\n",
    "        profile = ProfileReport(sampledf, explorative=True)\n",
    "    \n",
    "    profile.to_file(f\"profiling/profile_report_{tablename}.html\")\n",
    "\n",
    "db.close()"
   ]
  },
  {
   "cell_type": "code",
   "execution_count": null,
   "metadata": {},
   "outputs": [],
   "source": []
  },
  {
   "cell_type": "code",
   "execution_count": null,
   "metadata": {},
   "outputs": [],
   "source": []
  },
  {
   "cell_type": "markdown",
   "metadata": {},
   "source": [
    "## Gonna try profiling"
   ]
  },
  {
   "cell_type": "code",
   "execution_count": 15,
   "metadata": {},
   "outputs": [
    {
     "name": "stdout",
     "output_type": "stream",
     "text": [
      "name.basics.tsv  title.basics.tsv  title.episode.tsv\t title.ratings.tsv\n",
      "title.akas.tsv\t title.crew.tsv    title.principals.tsv\n"
     ]
    }
   ],
   "source": [
    "!ls imdb"
   ]
  },
  {
   "cell_type": "code",
   "execution_count": 16,
   "metadata": {},
   "outputs": [
    {
     "name": "stdout",
     "output_type": "stream",
     "text": [
      "['title.ratings.tsv', 'title.principals.tsv', 'title.basics.tsv', 'title.akas.tsv', 'title.crew.tsv', 'title.episode.tsv', 'name.basics.tsv']\n"
     ]
    }
   ],
   "source": [
    "import os\n",
    "\n",
    "# List all filenames in the imdb directory\n",
    "\n",
    "print(filenames)"
   ]
  },
  {
   "cell_type": "code",
   "execution_count": 22,
   "metadata": {},
   "outputs": [
    {
     "data": {
      "text/plain": [
       "['title_ratings',\n",
       " 'title_principals',\n",
       " 'title_basics',\n",
       " 'title_akas',\n",
       " 'title_crew',\n",
       " 'title_episode',\n",
       " 'name_basics']"
      ]
     },
     "execution_count": 22,
     "metadata": {},
     "output_type": "execute_result"
    }
   ],
   "source": [
    "filenames"
   ]
  },
  {
   "cell_type": "code",
   "execution_count": 1,
   "metadata": {},
   "outputs": [],
   "source": [
    "import duckdb"
   ]
  },
  {
   "cell_type": "code",
   "execution_count": 2,
   "metadata": {},
   "outputs": [
    {
     "data": {
      "text/html": [
       "<div>\n",
       "<style scoped>\n",
       "    .dataframe tbody tr th:only-of-type {\n",
       "        vertical-align: middle;\n",
       "    }\n",
       "\n",
       "    .dataframe tbody tr th {\n",
       "        vertical-align: top;\n",
       "    }\n",
       "\n",
       "    .dataframe thead th {\n",
       "        text-align: right;\n",
       "    }\n",
       "</style>\n",
       "<table border=\"1\" class=\"dataframe\">\n",
       "  <thead>\n",
       "    <tr style=\"text-align: right;\">\n",
       "      <th></th>\n",
       "      <th>name</th>\n",
       "    </tr>\n",
       "  </thead>\n",
       "  <tbody>\n",
       "    <tr>\n",
       "      <th>0</th>\n",
       "      <td>name_basics_raw</td>\n",
       "    </tr>\n",
       "    <tr>\n",
       "      <th>1</th>\n",
       "      <td>title_akas_raw</td>\n",
       "    </tr>\n",
       "    <tr>\n",
       "      <th>2</th>\n",
       "      <td>title_basics_raw</td>\n",
       "    </tr>\n",
       "    <tr>\n",
       "      <th>3</th>\n",
       "      <td>title_crew_raw</td>\n",
       "    </tr>\n",
       "    <tr>\n",
       "      <th>4</th>\n",
       "      <td>title_episode_raw</td>\n",
       "    </tr>\n",
       "    <tr>\n",
       "      <th>5</th>\n",
       "      <td>title_principals_raw</td>\n",
       "    </tr>\n",
       "    <tr>\n",
       "      <th>6</th>\n",
       "      <td>title_ratings_raw</td>\n",
       "    </tr>\n",
       "  </tbody>\n",
       "</table>\n",
       "</div>"
      ],
      "text/plain": [
       "                   name\n",
       "0       name_basics_raw\n",
       "1        title_akas_raw\n",
       "2      title_basics_raw\n",
       "3        title_crew_raw\n",
       "4     title_episode_raw\n",
       "5  title_principals_raw\n",
       "6     title_ratings_raw"
      ]
     },
     "execution_count": 2,
     "metadata": {},
     "output_type": "execute_result"
    }
   ],
   "source": [
    "con = duckdb.connect('my_database.duckdb')\n",
    "con.execute(\"SHOW TABLES\").fetchdf()"
   ]
  },
  {
   "cell_type": "code",
   "execution_count": 3,
   "metadata": {},
   "outputs": [],
   "source": [
    "con.close()"
   ]
  },
  {
   "cell_type": "code",
   "execution_count": 4,
   "metadata": {},
   "outputs": [
    {
     "data": {
      "text/html": [
       "<div>\n",
       "<style scoped>\n",
       "    .dataframe tbody tr th:only-of-type {\n",
       "        vertical-align: middle;\n",
       "    }\n",
       "\n",
       "    .dataframe tbody tr th {\n",
       "        vertical-align: top;\n",
       "    }\n",
       "\n",
       "    .dataframe thead th {\n",
       "        text-align: right;\n",
       "    }\n",
       "</style>\n",
       "<table border=\"1\" class=\"dataframe\">\n",
       "  <thead>\n",
       "    <tr style=\"text-align: right;\">\n",
       "      <th></th>\n",
       "      <th>count_star()</th>\n",
       "    </tr>\n",
       "  </thead>\n",
       "  <tbody>\n",
       "    <tr>\n",
       "      <th>0</th>\n",
       "      <td>50662800</td>\n",
       "    </tr>\n",
       "  </tbody>\n",
       "</table>\n",
       "</div>"
      ],
      "text/plain": [
       "   count_star()\n",
       "0      50662800"
      ]
     },
     "execution_count": 4,
     "metadata": {},
     "output_type": "execute_result"
    }
   ],
   "source": [
    "con.execute(\"select count(*) from title_akas_raw\").fetchdf()"
   ]
  },
  {
   "cell_type": "code",
   "execution_count": 3,
   "metadata": {},
   "outputs": [
    {
     "data": {
      "text/html": [
       "<div>\n",
       "<style scoped>\n",
       "    .dataframe tbody tr th:only-of-type {\n",
       "        vertical-align: middle;\n",
       "    }\n",
       "\n",
       "    .dataframe tbody tr th {\n",
       "        vertical-align: top;\n",
       "    }\n",
       "\n",
       "    .dataframe thead th {\n",
       "        text-align: right;\n",
       "    }\n",
       "</style>\n",
       "<table border=\"1\" class=\"dataframe\">\n",
       "  <thead>\n",
       "    <tr style=\"text-align: right;\">\n",
       "      <th></th>\n",
       "      <th>Success</th>\n",
       "    </tr>\n",
       "  </thead>\n",
       "  <tbody>\n",
       "  </tbody>\n",
       "</table>\n",
       "</div>"
      ],
      "text/plain": [
       "Empty DataFrame\n",
       "Columns: [Success]\n",
       "Index: []"
      ]
     },
     "execution_count": 3,
     "metadata": {},
     "output_type": "execute_result"
    }
   ],
   "source": [
    "con.execute(\"DROP TABLE title_ratings_raw\").fetchdf()"
   ]
  },
  {
   "cell_type": "code",
   "execution_count": 4,
   "metadata": {},
   "outputs": [],
   "source": [
    "import duckdb\n",
    "import pandas as pd\n",
    "import os\n",
    "import csv \n",
    "import gc\n",
    "from tqdm.notebook import tqdm\n",
    "\n",
    "# Connect to DuckDB (or create it if it doesn't exist)\n",
    "con = duckdb.connect('my_database.duckdb')"
   ]
  },
  {
   "cell_type": "code",
   "execution_count": 7,
   "metadata": {},
   "outputs": [
    {
     "data": {
      "application/vnd.jupyter.widget-view+json": {
       "model_id": "bee96d4be40e4b0b831ec71a62de1ad8",
       "version_major": 2,
       "version_minor": 0
      },
      "text/plain": [
       "  0%|          | 0/7 [00:00<?, ?it/s]"
      ]
     },
     "metadata": {},
     "output_type": "display_data"
    },
    {
     "data": {
      "application/vnd.jupyter.widget-view+json": {
       "model_id": "d25e0e85067d48cf89900d081aec836d",
       "version_major": 2,
       "version_minor": 0
      },
      "text/plain": [
       "FloatProgress(value=0.0, layout=Layout(width='auto'), style=ProgressStyle(bar_color='black'))"
      ]
     },
     "metadata": {},
     "output_type": "display_data"
    },
    {
     "data": {
      "application/vnd.jupyter.widget-view+json": {
       "model_id": "e4165f57fbc54ae2ada2d6db67a88085",
       "version_major": 2,
       "version_minor": 0
      },
      "text/plain": [
       "FloatProgress(value=0.0, layout=Layout(width='auto'), style=ProgressStyle(bar_color='black'))"
      ]
     },
     "metadata": {},
     "output_type": "display_data"
    }
   ],
   "source": [
    "# 0730\n",
    "\n",
    "filenames = os.listdir('imdb')\n",
    "#filenames = [f.replace('.','_') for f in filenames]\n",
    "#filenames = [f.replace('_tsv','') for f in filenames]\n",
    "\n",
    "# Load TSV files into DuckDB\n",
    "for filename in tqdm(filenames):\n",
    "    table_name = filename.replace('.','_').replace('_tsv','_raw')\n",
    "    #df = pd.read_csv(f'imdb/{filename}', sep='\\t', quoting=csv.QUOTE_NONE, na_values='\\\\N')\n",
    "    #con.execute(f\"CREATE TABLE IF NOT EXISTS {table_name} AS SELECT * FROM df\")\n",
    "    #del df \n",
    "    #gc.collect()\n",
    "\n",
    "    #con.execute(f\"CREATE TABLE IF NOT EXISTS {table_name} AS SELECT * FROM 'imdb/{filename}'\")\n",
    "    con.execute(f\"\"\"\n",
    "         CREATE TABLE IF NOT EXISTS {table_name} AS\n",
    "         SELECT *\n",
    "            FROM read_csv('imdb/{filename}',\n",
    "                delim = '\\t',\n",
    "                header = true,\n",
    "                nullstr = '\\\\N',\n",
    "                quote = '');\n",
    "     \"\"\")\n",
    "    # con.execute(f\"\"\"\n",
    "    #     CREATE TABLE IF NOT EXISTS {table_name} AS SELECT * FROM 'imdb/{filename}'\n",
    "    #     (DELIMITER '\\t', NULL '\\\\N', QUOTE '', HEADER TRUE)\n",
    "    #     \"\"\")"
   ]
  },
  {
   "cell_type": "code",
   "execution_count": 1,
   "metadata": {},
   "outputs": [
    {
     "data": {
      "text/plain": [
       "1"
      ]
     },
     "execution_count": 1,
     "metadata": {},
     "output_type": "execute_result"
    }
   ],
   "source": [
    "1"
   ]
  },
  {
   "cell_type": "code",
   "execution_count": 1,
   "metadata": {},
   "outputs": [],
   "source": [
    "import duckdb\n",
    "import pandas as pd\n",
    "import os\n",
    "import csv \n",
    "import gc\n",
    "from tqdm.notebook import tqdm\n",
    "from tqdm import tqdm"
   ]
  },
  {
   "cell_type": "code",
   "execution_count": 2,
   "metadata": {},
   "outputs": [],
   "source": [
    "filenames = os.listdir('imdb')\n",
    "tablenames = [f.replace('.','_') for f in filenames]\n",
    "tablenames = [f.replace('_tsv','_raw') for f in tablenames]"
   ]
  },
  {
   "cell_type": "code",
   "execution_count": 7,
   "metadata": {},
   "outputs": [
    {
     "name": "stderr",
     "output_type": "stream",
     "text": [
      "  0%|          | 0/7 [00:00<?, ?it/s]"
     ]
    },
    {
     "data": {
      "application/vnd.jupyter.widget-view+json": {
       "model_id": "6f6f433140934f23a300feb538080b57",
       "version_major": 2,
       "version_minor": 0
      },
      "text/plain": [
       "Summarize dataset:   0%|          | 0/5 [00:00<?, ?it/s]"
      ]
     },
     "metadata": {},
     "output_type": "display_data"
    },
    {
     "data": {
      "application/vnd.jupyter.widget-view+json": {
       "model_id": "7f45bc5391f940b4978cb7e1aa18ee1e",
       "version_major": 2,
       "version_minor": 0
      },
      "text/plain": [
       "Generate report structure:   0%|          | 0/1 [00:00<?, ?it/s]"
      ]
     },
     "metadata": {},
     "output_type": "display_data"
    },
    {
     "data": {
      "application/vnd.jupyter.widget-view+json": {
       "model_id": "0c8e815fca664633b14a1577a35cd7c2",
       "version_major": 2,
       "version_minor": 0
      },
      "text/plain": [
       "Render HTML:   0%|          | 0/1 [00:00<?, ?it/s]"
      ]
     },
     "metadata": {},
     "output_type": "display_data"
    },
    {
     "data": {
      "application/vnd.jupyter.widget-view+json": {
       "model_id": "523e3a1fce7740f38fa822dac509eced",
       "version_major": 2,
       "version_minor": 0
      },
      "text/plain": [
       "Export report to file:   0%|          | 0/1 [00:00<?, ?it/s]"
      ]
     },
     "metadata": {},
     "output_type": "display_data"
    },
    {
     "name": "stderr",
     "output_type": "stream",
     "text": [
      " 14%|█▍        | 1/7 [00:11<01:06, 11.09s/it]"
     ]
    },
    {
     "ename": "",
     "evalue": "",
     "output_type": "error",
     "traceback": [
      "\u001b[1;31mThe Kernel crashed while executing code in the current cell or a previous cell. \n",
      "\u001b[1;31mPlease review the code in the cell(s) to identify a possible cause of the failure. \n",
      "\u001b[1;31mClick <a href='https://aka.ms/vscodeJupyterKernelCrash'>here</a> for more info. \n",
      "\u001b[1;31mView Jupyter <a href='command:jupyter.viewOutput'>log</a> for further details."
     ]
    }
   ],
   "source": [
    "#import duckdb\n",
    "import pandas as pd\n",
    "import duckdb\n",
    "import pandas as pd\n",
    "import os\n",
    "import csv \n",
    "import gc\n",
    "from tqdm.notebook import tqdm\n",
    "from ydata_profiling import ProfileReport\n",
    "\n",
    "# Connect to DuckDB\n",
    "#con = duckdb.connect('my_database.duckdb')\n",
    "\n",
    "# Load data from DuckDB into a Pandas DataFrame\n",
    "for filename in tqdm(filenames):\n",
    "    #df = con.execute(f\"SELECT * FROM {tablename}\").fetchdf()\n",
    "    df = pd.read_csv(f'imdb/{filename}', sep='\\t', quoting=csv.QUOTE_NONE, na_values='\\\\N')\n",
    "\n",
    "    # Generate the profile report\n",
    "    profile = ProfileReport(df, title=f\"YData Profiling Report for {filename}\", explorative=True)\n",
    "    profile.to_file(f\"ydata_profiling_report_{filename}.html\")\n",
    "    del df \n",
    "    gc.collect()"
   ]
  },
  {
   "cell_type": "code",
   "execution_count": 3,
   "metadata": {},
   "outputs": [
    {
     "data": {
      "text/plain": [
       "['title.ratings.tsv',\n",
       " 'title.principals.tsv',\n",
       " 'title.basics.tsv',\n",
       " 'title.akas.tsv',\n",
       " 'title.crew.tsv',\n",
       " 'title.episode.tsv',\n",
       " 'name.basics.tsv']"
      ]
     },
     "execution_count": 3,
     "metadata": {},
     "output_type": "execute_result"
    }
   ],
   "source": [
    "filenames"
   ]
  },
  {
   "cell_type": "code",
   "execution_count": 1,
   "metadata": {},
   "outputs": [
    {
     "name": "stdout",
     "output_type": "stream",
     "text": [
      "total 8767756\n",
      "drwxr-xr-x 2 lean lean       4096 Nov 30 11:39 .\n",
      "drwxr-xr-x 4 lean lean       4096 Dec  1 07:31 ..\n",
      "-rw-r--r-- 1 lean lean  860003015 Nov 30 11:39 name.basics.tsv\n",
      "-rw-r--r-- 1 lean lean 2545837964 Nov 30 11:37 title.akas.tsv\n",
      "-rw-r--r-- 1 lean lean  971215680 Nov 30 11:36 title.basics.tsv\n",
      "-rw-r--r-- 1 lean lean  365321203 Nov 30 11:37 title.crew.tsv\n",
      "-rw-r--r-- 1 lean lean  226685444 Nov 30 11:37 title.episode.tsv\n",
      "-rw-r--r-- 1 lean lean 3982910975 Nov 30 11:38 title.principals.tsv\n",
      "-rw-r--r-- 1 lean lean   26167479 Nov 30 11:38 title.ratings.tsv\n"
     ]
    }
   ],
   "source": [
    "!ls -la imdb"
   ]
  },
  {
   "cell_type": "code",
   "execution_count": 2,
   "metadata": {},
   "outputs": [],
   "source": [
    "!rm *.duckdb"
   ]
  },
  {
   "cell_type": "code",
   "execution_count": null,
   "metadata": {},
   "outputs": [
    {
     "name": "stdout",
     "output_type": "stream",
     "text": [
      "Total lines for title.ratings.tsv: 1505532\n"
     ]
    },
    {
     "data": {
      "application/vnd.jupyter.widget-view+json": {
       "model_id": "15845b8b82d341118344594fd0e67d1c",
       "version_major": 2,
       "version_minor": 0
      },
      "text/plain": [
       "  0%|          | 0/16 [00:00<?, ?it/s]"
      ]
     },
     "metadata": {},
     "output_type": "display_data"
    },
    {
     "name": "stdout",
     "output_type": "stream",
     "text": [
      "Total lines for title.principals.tsv: 89457295\n"
     ]
    },
    {
     "data": {
      "application/vnd.jupyter.widget-view+json": {
       "model_id": "75716f98142e464a945b457e3e1ee2aa",
       "version_major": 2,
       "version_minor": 0
      },
      "text/plain": [
       "  0%|          | 0/895 [00:00<?, ?it/s]"
      ]
     },
     "metadata": {},
     "output_type": "display_data"
    },
    {
     "name": "stdout",
     "output_type": "stream",
     "text": [
      "Total lines for title.basics.tsv: 11272948\n"
     ]
    },
    {
     "data": {
      "application/vnd.jupyter.widget-view+json": {
       "model_id": "a36796f7d7e641e6961b9e3b7016f43d",
       "version_major": 2,
       "version_minor": 0
      },
      "text/plain": [
       "  0%|          | 0/113 [00:00<?, ?it/s]"
      ]
     },
     "metadata": {},
     "output_type": "display_data"
    },
    {
     "name": "stdout",
     "output_type": "stream",
     "text": [
      "Total lines for title.akas.tsv: 50662801\n"
     ]
    },
    {
     "data": {
      "application/vnd.jupyter.widget-view+json": {
       "model_id": "1827afe14bca4b88a2a39e60a290bf67",
       "version_major": 2,
       "version_minor": 0
      },
      "text/plain": [
       "  0%|          | 0/507 [00:00<?, ?it/s]"
      ]
     },
     "metadata": {},
     "output_type": "display_data"
    }
   ],
   "source": [
    "import duckdb\n",
    "import pandas as pd\n",
    "import os\n",
    "import csv \n",
    "import gc\n",
    "from tqdm.notebook import tqdm\n",
    "\n",
    "# Connect to DuckDB\n",
    "db = duckdb.connect('data.duckdb')\n",
    "\n",
    "filenames = os.listdir('imdb')\n",
    "\n",
    "# Configure chunk size (adjust based on available memory)\n",
    "CHUNK_SIZE = 100000\n",
    "\n",
    "for filename in filenames:\n",
    "    table_name = filename.replace('.','_').replace('_tsv','_raw')\n",
    "    \n",
    "    # Get total lines for progress bar\n",
    "    total_lines = sum(1 for _ in open(f'imdb/{filename}'))\n",
    "    print(f\"Total lines for {filename}: {total_lines}\")\n",
    "    total_chunks = total_lines // CHUNK_SIZE + 1\n",
    "\n",
    "    # Create iterator for chunks\n",
    "    chunks = pd.read_csv(f'imdb/{filename}', \n",
    "                        sep='\\t',\n",
    "                        quoting=csv.QUOTE_NONE, na_values='\\\\N',\n",
    "                        chunksize=CHUNK_SIZE,\n",
    "                        low_memory=False)\n",
    "\n",
    "    # Create table on first chunk\n",
    "    first_chunk = next(chunks)\n",
    "    db.execute(f\"\"\"\n",
    "        CREATE TABLE IF NOT EXISTS {table_name} AS \n",
    "        SELECT * FROM first_chunk WHERE 1=0\n",
    "    \"\"\")\n",
    "\n",
    "    # Insert chunks with progress bar\n",
    "    try:\n",
    "        with tqdm(total=total_chunks) as pbar:\n",
    "            # Insert first chunk\n",
    "            db.execute(f\"INSERT INTO {table_name} SELECT * FROM first_chunk\")\n",
    "            pbar.update(1)\n",
    "            \n",
    "            # Insert remaining chunks\n",
    "            for chunk in chunks:\n",
    "                db.execute(f\"INSERT INTO {table_name} SELECT * FROM chunk\")\n",
    "                pbar.update(1)\n",
    "    finally:\n",
    "        chunks.close()\n",
    "        del chunks\n",
    "        gc.collect()            \n",
    "\n",
    "db.close()"
   ]
  },
  {
   "cell_type": "code",
   "execution_count": 1,
   "metadata": {},
   "outputs": [
    {
     "data": {
      "text/plain": [
       "1"
      ]
     },
     "execution_count": 1,
     "metadata": {},
     "output_type": "execute_result"
    }
   ],
   "source": [
    "1"
   ]
  },
  {
   "cell_type": "code",
   "execution_count": null,
   "metadata": {},
   "outputs": [],
   "source": []
  },
  {
   "cell_type": "code",
   "execution_count": null,
   "metadata": {},
   "outputs": [],
   "source": [
    "filename = \"title.principals.tsv\"\n",
    "\n",
    "df = pd.read_csv(f'imdb/{filename}', sep='\\t', quoting=csv.QUOTE_NONE, na_values='\\\\N')\n",
    "print(df.shape)\n",
    "# Generate the profile report\n",
    "profile = ProfileReport(df, title=f\"YData Profiling Report for {filename}\", explorative=True)\n",
    "profile.to_file(f\"ydata_profiling_report_{filename}.html\")\n",
    "del df, profile\n",
    "gc.collect()"
   ]
  },
  {
   "cell_type": "code",
   "execution_count": null,
   "metadata": {},
   "outputs": [],
   "source": []
  },
  {
   "cell_type": "code",
   "execution_count": null,
   "metadata": {},
   "outputs": [],
   "source": []
  },
  {
   "cell_type": "code",
   "execution_count": null,
   "metadata": {},
   "outputs": [],
   "source": []
  },
  {
   "cell_type": "code",
   "execution_count": null,
   "metadata": {},
   "outputs": [],
   "source": []
  },
  {
   "cell_type": "code",
   "execution_count": null,
   "metadata": {},
   "outputs": [],
   "source": []
  }
 ],
 "metadata": {
  "kernelspec": {
   "display_name": "ml",
   "language": "python",
   "name": "python3"
  },
  "language_info": {
   "codemirror_mode": {
    "name": "ipython",
    "version": 3
   },
   "file_extension": ".py",
   "mimetype": "text/x-python",
   "name": "python",
   "nbconvert_exporter": "python",
   "pygments_lexer": "ipython3",
   "version": "3.12.7"
  }
 },
 "nbformat": 4,
 "nbformat_minor": 2
}
